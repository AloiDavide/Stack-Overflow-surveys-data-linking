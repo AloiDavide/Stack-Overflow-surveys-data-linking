{
 "cells": [
  {
   "cell_type": "markdown",
   "id": "a2f2a9ba",
   "metadata": {},
   "source": [
    "# Elaborato Open Data Management\n",
    "# Davide Aloi\n",
    "\n",
    "---\n",
    "\n",
    "## Ontologia\n",
    "### StackOverflowSurvery\n",
    "Istanze del developer survey annuale di stack overflow. Caratterizzate da un anno di riferimento, un totale risposte e una lista di linguaggi di programmazione presentati come scelte.\n",
    "Proprietà:\n",
    "- hasLanguageOption\n",
    "- totalResponses\n",
    "- year\n",
    "---\n",
    "### SurveyRespondant\n",
    "In base al campo \"MainBranch\" della risposta si distinguono tre sottoclassi disgiunte: Developer, LearningToCode, e NonDeveloper.\n",
    "Considero anche qualcuno che ha lavorato come developer in passato un elemento della classe Developer.\n",
    "Proprietà:\n",
    "- maxAge\n",
    "- minAge\n",
    "- isFromCountry\n",
    "- hasEmployment\n",
    "- hasLanguageOption\n",
    "- isFromSurvey\n",
    "- usesLanguage\n",
    "- usesOS\n",
    "---\n",
    "### Country\n",
    "La nazione dove risiede l'utente. Ognuna ha associato il proprio codice ISO Alpha 3.\n",
    "Le istanze di questa classe sono collegate a dbpedia con owl:sameAs.\n",
    "Proprietà:\n",
    "- ISO_A3\n",
    "---\n",
    "### EmploymentStatus\n",
    "Rappresenta lo stato di carriera attuale di un utente. Le sue istanze definite insieme all'ontologia sono:\n",
    "- FullTime\n",
    "- Idependent\n",
    "- PartTime\n",
    "- Retired\n",
    "- Student\n",
    "- Unemployed\n",
    "---\n",
    "### ProgrammingLanguage\n",
    "Linguaggi interpretabili da un computer usati per scrivere software. Sono incluse categorie di linguaggi non strettamente di programmazione ma adiacenti, come linguaggi di markup e di query.\n",
    "Le istanze di questa classe sono collegate a dbpedia con owl:sameAs.\n",
    "---\n",
    "### OperatingSystemFamily\n",
    "Rappresenta le quattro categorie in cui è possibile classificare ogni sistema operativo. Le sue istanze definite insieme all'ontologia sono:\n",
    "- LinuxBased\n",
    "- MacOS\n",
    "- Windows\n",
    "- OtherOS\n",
    "---\n",
    "\n"
   ]
  },
  {
   "cell_type": "markdown",
   "id": "dcee93a5",
   "metadata": {
    "pycharm": {
     "name": "#%% md\n"
    }
   },
   "source": [
    "# Parte 1 - Unificazione dei dati"
   ]
  },
  {
   "cell_type": "markdown",
   "id": "dbfebb0d",
   "metadata": {},
   "source": [
    "## Data cleaning\n",
    "Nonostante i dati in sè siano di buona qualità, il formato delle domande e delle risposte non è costante da anno ad anno, quindi prima di raccogliere i dati in un grafo RDF ho avuto bisogno di uniformarli.\n",
    "\n",
    "Tra gli elementi che variano da anno ad anno abbiamo:\n",
    "- Il formato del campo dell'età. Alcune volte è lasciato inserire all'utente come numero floating point, mentre altre viene selezionato da dei range prestabiliti. Nel primo caso ho fatto coincidere i valori di age_min e age_max.\n",
    "- Alcuni sondaggi fanno una distinzione tra sistemi operativi usati in ambito personale o professionale mentre altri no. In tal caso ho unito le due categorie, inoltre solo a partire dal 2022 è possibile sceglierne più di uno.\n",
    "- Il wording delle risposte a scelta multipla non è quasi mai consistente e le opzioni vanno e vengono. Per questi campi ho definito io delle categorie in cui smistare le risposte in base a delle parole chiave.\n",
    "- Anche la selezione stessa di linguaggi e sistemi operativi non è costante ma cambia da anno ad anno.\n",
    "\n",
    "A seguire definisco una serie di funzioni che mi permettono di eseguire questi ed altri aggiustamenti."
   ]
  },
  {
   "metadata": {
    "ExecuteTime": {
     "end_time": "2024-05-05T10:55:44.989732Z",
     "start_time": "2024-05-05T10:55:17.776784Z"
    }
   },
   "cell_type": "code",
   "source": "pip install pandas numpy",
   "id": "d19eea60d0365e96",
   "outputs": [
    {
     "name": "stdout",
     "output_type": "stream",
     "text": [
      "Defaulting to user installation because normal site-packages is not writeable\n",
      "Collecting pandas\n",
      "  Downloading pandas-2.2.2-cp312-cp312-win_amd64.whl.metadata (19 kB)\n",
      "Collecting numpy\n",
      "  Downloading numpy-1.26.4-cp312-cp312-win_amd64.whl.metadata (61 kB)\n",
      "     ---------------------------------------- 0.0/61.0 kB ? eta -:--:--\n",
      "     ------ --------------------------------- 10.2/61.0 kB ? eta -:--:--\n",
      "     ------------------------------- ------ 51.2/61.0 kB 890.4 kB/s eta 0:00:01\n",
      "     -------------------------------------- 61.0/61.0 kB 819.4 kB/s eta 0:00:00\n",
      "Requirement already satisfied: python-dateutil>=2.8.2 in c:\\users\\davide\\appdata\\local\\packages\\pythonsoftwarefoundation.python.3.12_qbz5n2kfra8p0\\localcache\\local-packages\\python312\\site-packages (from pandas) (2.9.0.post0)\n",
      "Collecting pytz>=2020.1 (from pandas)\n",
      "  Using cached pytz-2024.1-py2.py3-none-any.whl.metadata (22 kB)\n",
      "Collecting tzdata>=2022.7 (from pandas)\n",
      "  Using cached tzdata-2024.1-py2.py3-none-any.whl.metadata (1.4 kB)\n",
      "Requirement already satisfied: six>=1.5 in c:\\users\\davide\\appdata\\local\\packages\\pythonsoftwarefoundation.python.3.12_qbz5n2kfra8p0\\localcache\\local-packages\\python312\\site-packages (from python-dateutil>=2.8.2->pandas) (1.16.0)\n",
      "Downloading pandas-2.2.2-cp312-cp312-win_amd64.whl (11.5 MB)\n",
      "   ---------------------------------------- 0.0/11.5 MB ? eta -:--:--\n",
      "   ---------------------------------------- 0.1/11.5 MB 4.5 MB/s eta 0:00:03\n",
      "   ---------------------------------------- 0.1/11.5 MB 2.1 MB/s eta 0:00:06\n",
      "    --------------------------------------- 0.2/11.5 MB 2.4 MB/s eta 0:00:05\n",
      "    --------------------------------------- 0.3/11.5 MB 1.9 MB/s eta 0:00:06\n",
      "   - -------------------------------------- 0.3/11.5 MB 1.9 MB/s eta 0:00:06\n",
      "   - -------------------------------------- 0.4/11.5 MB 2.0 MB/s eta 0:00:06\n",
      "   - -------------------------------------- 0.5/11.5 MB 1.9 MB/s eta 0:00:06\n",
      "   - -------------------------------------- 0.6/11.5 MB 2.0 MB/s eta 0:00:06\n",
      "   -- ------------------------------------- 0.7/11.5 MB 2.1 MB/s eta 0:00:06\n",
      "   -- ------------------------------------- 0.7/11.5 MB 2.0 MB/s eta 0:00:06\n",
      "   -- ------------------------------------- 0.8/11.5 MB 2.0 MB/s eta 0:00:06\n",
      "   -- ------------------------------------- 0.9/11.5 MB 2.0 MB/s eta 0:00:06\n",
      "   --- ------------------------------------ 1.0/11.5 MB 2.1 MB/s eta 0:00:06\n",
      "   --- ------------------------------------ 1.0/11.5 MB 2.1 MB/s eta 0:00:06\n",
      "   --- ------------------------------------ 1.1/11.5 MB 2.1 MB/s eta 0:00:05\n",
      "   --- ------------------------------------ 1.1/11.5 MB 2.1 MB/s eta 0:00:05\n",
      "   --- ------------------------------------ 1.1/11.5 MB 1.9 MB/s eta 0:00:06\n",
      "   ---- ----------------------------------- 1.2/11.5 MB 1.9 MB/s eta 0:00:06\n",
      "   ---- ----------------------------------- 1.3/11.5 MB 1.9 MB/s eta 0:00:06\n",
      "   ---- ----------------------------------- 1.4/11.5 MB 2.0 MB/s eta 0:00:06\n",
      "   ----- ---------------------------------- 1.5/11.5 MB 2.0 MB/s eta 0:00:06\n",
      "   ----- ---------------------------------- 1.5/11.5 MB 2.0 MB/s eta 0:00:06\n",
      "   ----- ---------------------------------- 1.6/11.5 MB 2.0 MB/s eta 0:00:05\n",
      "   ------ --------------------------------- 1.7/11.5 MB 2.0 MB/s eta 0:00:05\n",
      "   ------ --------------------------------- 1.8/11.5 MB 2.0 MB/s eta 0:00:05\n",
      "   ------ --------------------------------- 1.9/11.5 MB 2.1 MB/s eta 0:00:05\n",
      "   ------ --------------------------------- 2.0/11.5 MB 2.1 MB/s eta 0:00:05\n",
      "   ------- -------------------------------- 2.1/11.5 MB 2.1 MB/s eta 0:00:05\n",
      "   ------- -------------------------------- 2.2/11.5 MB 2.1 MB/s eta 0:00:05\n",
      "   ------- -------------------------------- 2.3/11.5 MB 2.1 MB/s eta 0:00:05\n",
      "   -------- ------------------------------- 2.4/11.5 MB 2.2 MB/s eta 0:00:05\n",
      "   -------- ------------------------------- 2.5/11.5 MB 2.2 MB/s eta 0:00:05\n",
      "   --------- ------------------------------ 2.7/11.5 MB 2.3 MB/s eta 0:00:04\n",
      "   --------- ------------------------------ 2.9/11.5 MB 2.4 MB/s eta 0:00:04\n",
      "   ---------- ----------------------------- 3.1/11.5 MB 2.5 MB/s eta 0:00:04\n",
      "   ----------- ---------------------------- 3.3/11.5 MB 2.6 MB/s eta 0:00:04\n",
      "   ------------ --------------------------- 3.5/11.5 MB 2.7 MB/s eta 0:00:03\n",
      "   ------------- -------------------------- 3.8/11.5 MB 2.8 MB/s eta 0:00:03\n",
      "   -------------- ------------------------- 4.1/11.5 MB 2.9 MB/s eta 0:00:03\n",
      "   --------------- ------------------------ 4.3/11.5 MB 3.0 MB/s eta 0:00:03\n",
      "   --------------- ------------------------ 4.6/11.5 MB 3.2 MB/s eta 0:00:03\n",
      "   ---------------- ----------------------- 4.9/11.5 MB 3.3 MB/s eta 0:00:03\n",
      "   ----------------- ---------------------- 5.1/11.5 MB 3.4 MB/s eta 0:00:02\n",
      "   ------------------ --------------------- 5.4/11.5 MB 3.5 MB/s eta 0:00:02\n",
      "   ------------------- -------------------- 5.7/11.5 MB 3.5 MB/s eta 0:00:02\n",
      "   -------------------- ------------------- 5.9/11.5 MB 3.6 MB/s eta 0:00:02\n",
      "   --------------------- ------------------ 6.2/11.5 MB 3.7 MB/s eta 0:00:02\n",
      "   ---------------------- ----------------- 6.5/11.5 MB 3.8 MB/s eta 0:00:02\n",
      "   ----------------------- ---------------- 6.7/11.5 MB 3.9 MB/s eta 0:00:02\n",
      "   ------------------------ --------------- 7.0/11.5 MB 4.0 MB/s eta 0:00:02\n",
      "   ------------------------- -------------- 7.3/11.5 MB 4.0 MB/s eta 0:00:02\n",
      "   -------------------------- ------------- 7.5/11.5 MB 4.1 MB/s eta 0:00:01\n",
      "   --------------------------- ------------ 7.8/11.5 MB 4.2 MB/s eta 0:00:01\n",
      "   ---------------------------- ----------- 8.1/11.5 MB 4.2 MB/s eta 0:00:01\n",
      "   ----------------------------- ---------- 8.3/11.5 MB 4.3 MB/s eta 0:00:01\n",
      "   ----------------------------- ---------- 8.6/11.5 MB 4.3 MB/s eta 0:00:01\n",
      "   ------------------------------ --------- 8.9/11.5 MB 4.4 MB/s eta 0:00:01\n",
      "   ------------------------------- -------- 9.1/11.5 MB 4.5 MB/s eta 0:00:01\n",
      "   -------------------------------- ------- 9.4/11.5 MB 4.5 MB/s eta 0:00:01\n",
      "   --------------------------------- ------ 9.7/11.5 MB 4.5 MB/s eta 0:00:01\n",
      "   ---------------------------------- ----- 9.9/11.5 MB 4.6 MB/s eta 0:00:01\n",
      "   ----------------------------------- ---- 10.2/11.5 MB 4.7 MB/s eta 0:00:01\n",
      "   ------------------------------------ --- 10.5/11.5 MB 4.9 MB/s eta 0:00:01\n",
      "   ------------------------------------- -- 10.7/11.5 MB 5.1 MB/s eta 0:00:01\n",
      "   -------------------------------------- - 11.0/11.5 MB 5.3 MB/s eta 0:00:01\n",
      "   ---------------------------------------  11.3/11.5 MB 5.6 MB/s eta 0:00:01\n",
      "   ---------------------------------------  11.5/11.5 MB 6.0 MB/s eta 0:00:01\n",
      "   ---------------------------------------- 11.5/11.5 MB 5.8 MB/s eta 0:00:00\n",
      "Downloading numpy-1.26.4-cp312-cp312-win_amd64.whl (15.5 MB)\n",
      "   ---------------------------------------- 0.0/15.5 MB ? eta -:--:--\n",
      "    --------------------------------------- 0.3/15.5 MB 7.7 MB/s eta 0:00:02\n",
      "   - -------------------------------------- 0.5/15.5 MB 8.1 MB/s eta 0:00:02\n",
      "   -- ------------------------------------- 0.8/15.5 MB 7.2 MB/s eta 0:00:03\n",
      "   -- ------------------------------------- 1.1/15.5 MB 7.6 MB/s eta 0:00:02\n",
      "   --- ------------------------------------ 1.3/15.5 MB 7.7 MB/s eta 0:00:02\n",
      "   ---- ----------------------------------- 1.6/15.5 MB 7.3 MB/s eta 0:00:02\n",
      "   ---- ----------------------------------- 1.9/15.5 MB 7.5 MB/s eta 0:00:02\n",
      "   ----- ---------------------------------- 2.2/15.5 MB 7.6 MB/s eta 0:00:02\n",
      "   ------ --------------------------------- 2.4/15.5 MB 7.7 MB/s eta 0:00:02\n",
      "   ------ --------------------------------- 2.7/15.5 MB 7.5 MB/s eta 0:00:02\n",
      "   ------- -------------------------------- 3.0/15.5 MB 7.6 MB/s eta 0:00:02\n",
      "   -------- ------------------------------- 3.3/15.5 MB 7.4 MB/s eta 0:00:02\n",
      "   --------- ------------------------------ 3.5/15.5 MB 7.5 MB/s eta 0:00:02\n",
      "   --------- ------------------------------ 3.8/15.5 MB 7.6 MB/s eta 0:00:02\n",
      "   ---------- ----------------------------- 4.1/15.5 MB 7.6 MB/s eta 0:00:02\n",
      "   ----------- ---------------------------- 4.3/15.5 MB 7.5 MB/s eta 0:00:02\n",
      "   ----------- ---------------------------- 4.6/15.5 MB 7.5 MB/s eta 0:00:02\n",
      "   ------------ --------------------------- 4.9/15.5 MB 7.6 MB/s eta 0:00:02\n",
      "   ------------- -------------------------- 5.1/15.5 MB 7.6 MB/s eta 0:00:02\n",
      "   ------------- -------------------------- 5.4/15.5 MB 7.5 MB/s eta 0:00:02\n",
      "   -------------- ------------------------- 5.7/15.5 MB 7.6 MB/s eta 0:00:02\n",
      "   --------------- ------------------------ 5.9/15.5 MB 7.6 MB/s eta 0:00:02\n",
      "   --------------- ------------------------ 6.2/15.5 MB 7.6 MB/s eta 0:00:02\n",
      "   ---------------- ----------------------- 6.5/15.5 MB 7.5 MB/s eta 0:00:02\n",
      "   ----------------- ---------------------- 6.7/15.5 MB 7.6 MB/s eta 0:00:02\n",
      "   ------------------ --------------------- 7.0/15.5 MB 7.6 MB/s eta 0:00:02\n",
      "   ------------------ --------------------- 7.3/15.5 MB 7.6 MB/s eta 0:00:02\n",
      "   ------------------- -------------------- 7.5/15.5 MB 7.5 MB/s eta 0:00:02\n",
      "   -------------------- ------------------- 7.8/15.5 MB 7.6 MB/s eta 0:00:02\n",
      "   -------------------- ------------------- 8.1/15.5 MB 7.6 MB/s eta 0:00:01\n",
      "   --------------------- ------------------ 8.3/15.5 MB 7.6 MB/s eta 0:00:01\n",
      "   ---------------------- ----------------- 8.6/15.5 MB 7.5 MB/s eta 0:00:01\n",
      "   ---------------------- ----------------- 8.9/15.5 MB 7.6 MB/s eta 0:00:01\n",
      "   ----------------------- ---------------- 9.2/15.5 MB 7.6 MB/s eta 0:00:01\n",
      "   ------------------------ --------------- 9.4/15.5 MB 7.5 MB/s eta 0:00:01\n",
      "   ------------------------- -------------- 9.7/15.5 MB 7.6 MB/s eta 0:00:01\n",
      "   ------------------------- -------------- 10.0/15.5 MB 7.6 MB/s eta 0:00:01\n",
      "   -------------------------- ------------- 10.2/15.5 MB 7.6 MB/s eta 0:00:01\n",
      "   --------------------------- ------------ 10.5/15.5 MB 7.5 MB/s eta 0:00:01\n",
      "   --------------------------- ------------ 10.8/15.5 MB 7.6 MB/s eta 0:00:01\n",
      "   ---------------------------- ----------- 11.1/15.5 MB 7.6 MB/s eta 0:00:01\n",
      "   ----------------------------- ---------- 11.3/15.5 MB 7.5 MB/s eta 0:00:01\n",
      "   ----------------------------- ---------- 11.6/15.5 MB 7.6 MB/s eta 0:00:01\n",
      "   ------------------------------ --------- 11.9/15.5 MB 7.6 MB/s eta 0:00:01\n",
      "   ------------------------------- -------- 12.1/15.5 MB 7.6 MB/s eta 0:00:01\n",
      "   -------------------------------- ------- 12.4/15.5 MB 7.6 MB/s eta 0:00:01\n",
      "   -------------------------------- ------- 12.7/15.5 MB 7.6 MB/s eta 0:00:01\n",
      "   --------------------------------- ------ 13.0/15.5 MB 7.6 MB/s eta 0:00:01\n",
      "   ---------------------------------- ----- 13.2/15.5 MB 7.5 MB/s eta 0:00:01\n",
      "   ---------------------------------- ----- 13.5/15.5 MB 7.6 MB/s eta 0:00:01\n",
      "   ----------------------------------- ---- 13.8/15.5 MB 7.6 MB/s eta 0:00:01\n",
      "   ------------------------------------ --- 14.1/15.5 MB 7.5 MB/s eta 0:00:01\n",
      "   ------------------------------------ --- 14.3/15.5 MB 7.6 MB/s eta 0:00:01\n",
      "   ------------------------------------- -- 14.6/15.5 MB 7.6 MB/s eta 0:00:01\n",
      "   -------------------------------------- - 14.9/15.5 MB 7.6 MB/s eta 0:00:01\n",
      "   ---------------------------------------  15.1/15.5 MB 7.5 MB/s eta 0:00:01\n",
      "   ---------------------------------------  15.4/15.5 MB 7.6 MB/s eta 0:00:01\n",
      "   ---------------------------------------  15.5/15.5 MB 7.6 MB/s eta 0:00:01\n",
      "   ---------------------------------------  15.5/15.5 MB 7.6 MB/s eta 0:00:01\n",
      "   ---------------------------------------- 15.5/15.5 MB 7.2 MB/s eta 0:00:00\n",
      "Using cached pytz-2024.1-py2.py3-none-any.whl (505 kB)\n",
      "Using cached tzdata-2024.1-py2.py3-none-any.whl (345 kB)\n",
      "Installing collected packages: pytz, tzdata, numpy, pandas\n",
      "Successfully installed numpy-1.26.4 pandas-2.2.2 pytz-2024.1 tzdata-2024.1\n",
      "Note: you may need to restart the kernel to use updated packages.\n"
     ]
    }
   ],
   "execution_count": 1
  },
  {
   "cell_type": "code",
   "id": "a49ac742",
   "metadata": {
    "pycharm": {
     "name": "#%%\n"
    },
    "ExecuteTime": {
     "end_time": "2024-05-05T10:56:01.241920Z",
     "start_time": "2024-05-05T10:55:58.776327Z"
    }
   },
   "source": [
    "import pandas as pd\n",
    "import numpy as np"
   ],
   "outputs": [],
   "execution_count": 2
  },
  {
   "cell_type": "code",
   "execution_count": 164,
   "id": "d25b4c23",
   "metadata": {
    "pycharm": {
     "name": "#%%\n"
    }
   },
   "outputs": [],
   "source": [
    "#lettura dei dataset\n",
    "surveys = [pd.read_csv('raw/'+ str(year) + \".csv\", low_memory=False, index_col=0) for year in range(2023, 2019,-1)]"
   ]
  },
  {
   "cell_type": "markdown",
   "id": "9d6bbd29",
   "metadata": {},
   "source": [
    "---\n",
    "### Funzioni ausiliarie"
   ]
  },
  {
   "cell_type": "markdown",
   "id": "8fc01c51",
   "metadata": {
    "pycharm": {
     "name": "#%% md\n"
    }
   },
   "source": [
    "Consideriamo le risposte relative al campo di occupazione, e osserviamo come nonostante queste varino tra i diversi sondaggi, basta individuare le parole \"learning\", \"profession\" e \"primarily\" per classificare la risposta come appartenente a uno studente, un developer, o nessuno dei due."
   ]
  },
  {
   "cell_type": "code",
   "execution_count": 156,
   "id": "e9d06932",
   "metadata": {
    "pycharm": {
     "name": "#%%\n"
    }
   },
   "outputs": [
    {
     "data": {
      "text/plain": [
       "array(['None of these', 'I am a developer by profession',\n",
       "       'I am not primarily a developer, but I write code sometimes as part of my work/studies',\n",
       "       'I code primarily as a hobby', 'I am learning to code',\n",
       "       'I used to be a developer by profession, but no longer am',\n",
       "       'I am not primarily a developer, but I write code sometimes as part of my work',\n",
       "       'I am a student who is learning to code', nan], dtype=object)"
      ]
     },
     "execution_count": 156,
     "metadata": {},
     "output_type": "execute_result"
    }
   ],
   "source": [
    "pd.concat(surveys).MainBranch.unique()"
   ]
  },
  {
   "cell_type": "markdown",
   "id": "1aaa9a1c",
   "metadata": {},
   "source": [
    "La funzione find_category permette di associare una risposta passata come stringa ad una categoria attraverso la ricerca di un determinate sottostringhe specificate in un dizionario.\n",
    "Il parametro default indica cosa viene restituito se nessuna chiave è trovata nella stringa. Se omesso restituisce l'input invariato."
   ]
  },
  {
   "cell_type": "code",
   "execution_count": 157,
   "id": "71bbad8b",
   "metadata": {
    "pycharm": {
     "name": "#%%\n"
    }
   },
   "outputs": [],
   "source": [
    "def find_category(text, keywords, default=None):\n",
    "    if pd.isna(text): return np.nan\n",
    "    low_text = text.lower()\n",
    "\n",
    "    for key in keywords.keys():\n",
    "        if key in low_text: return keywords[key]\n",
    "\n",
    "    if default is None: return text\n",
    "    else: return default\n"
   ]
  },
  {
   "cell_type": "markdown",
   "id": "cb4f26a3",
   "metadata": {
    "pycharm": {
     "name": "#%% md\n"
    }
   },
   "source": [
    "Con lo stesso approccio diventa possibile unificare le risposte variabili nei campi occupazione, sistemi operativi, e linguaggi."
   ]
  },
  {
   "cell_type": "code",
   "execution_count": 158,
   "id": "d788580a",
   "metadata": {
    "pycharm": {
     "name": "#%%\n"
    }
   },
   "outputs": [],
   "source": [
    "\n",
    "branch_conversion = {\"learning\": \"LearningToCode\",\n",
    "        \"profession\": \"Developer\",\n",
    "        \"primarily\": \"NonDeveloper\"}\n",
    "\n",
    "employment_conversion ={'full-time':'FullTime',\n",
    "        'independent':'Independent',\n",
    "        'student':'Student',\n",
    "        'part-time':'PartTime',\n",
    "        'not employed':'Unemployed',\n",
    "        'retired':'Retired'}\n",
    "\n",
    "os_conversion = {'windows':'Windows',\n",
    "                      'macos':'MacOS',\n",
    "                      'android':'OtherOS',\n",
    "                      'ios':'OtherOS',\n",
    "                      'ipados':'OtherOS',\n",
    "                      'bsd':'OtherOS',\n",
    "                      'haiku':'OtherOS',\n",
    "                      'other':'OtherOS'}\n",
    "\n",
    "lang_conversion = {'html':'HTML',\n",
    "                'bash':'Bash',\n",
    "                'visual basic':'Visual Basic .Net'}"
   ]
  },
  {
   "cell_type": "markdown",
   "id": "cf471352",
   "metadata": {},
   "source": [
    "Esempi di esecuzione, la priorità è data alla keyword specificata per prima nel dizionario."
   ]
  },
  {
   "cell_type": "code",
   "execution_count": 159,
   "id": "ff314242",
   "metadata": {
    "pycharm": {
     "name": "#%%\n"
    }
   },
   "outputs": [
    {
     "name": "stdout",
     "output_type": "stream",
     "text": [
      "Esempio A - By profession\n",
      "Developer\n",
      "Esempio B - primarily profession learning\n",
      "LearningToCode\n",
      "Esempio C - nessuno\n",
      "Esempio C - nessuno\n",
      "nan\n"
     ]
    }
   ],
   "source": [
    "txtA = \"Esempio A - By profession\"\n",
    "txtB = \"Esempio B - primarily profession learning\"\n",
    "txtC = \"Esempio C - nessuno\"\n",
    "\n",
    "keys = branch_conversion\n",
    "\n",
    "print(\"-- \"+txtA)\n",
    "print(find_category(txtA, keys))\n",
    "print(\"-- \"+txtB)\n",
    "print(find_category(txtB, keys))\n",
    "print(\"-- \"+txtC)\n",
    "print(find_category(txtC, keys))\n",
    "print(find_category(txtC, keys, np.nan))"
   ]
  },
  {
   "cell_type": "markdown",
   "id": "b234474d",
   "metadata": {
    "pycharm": {
     "name": "#%% md\n"
    }
   },
   "source": [
    "I campi sistemi operativi e lingue permettono più risposte per utente, quindi ho bisogno anche di una funzione che applichi find_category ad un'intera lista."
   ]
  },
  {
   "cell_type": "code",
   "execution_count": 160,
   "id": "dde20c40",
   "metadata": {
    "pycharm": {
     "name": "#%%\n"
    }
   },
   "outputs": [],
   "source": [
    "def convert_list(lst, conversion, default=None):\n",
    "    if not isinstance(lst, list): return []\n",
    "    return [find_category(item, conversion) if default is None else find_category(item, conversion, default) for item in lst]"
   ]
  },
  {
   "cell_type": "markdown",
   "id": "5f2e6bfe",
   "metadata": {},
   "source": [
    "\n",
    "La funzione get_age_bounds effettua il parsing delle stringhe contenenti un range di età in formato \"xx-yy years old\" e restituisce una coppia di interi contenente il minimo e il massimo del range."
   ]
  },
  {
   "cell_type": "code",
   "execution_count": 161,
   "id": "3c25d5f3",
   "metadata": {
    "pycharm": {
     "name": "#%%\n"
    }
   },
   "outputs": [
    {
     "name": "stdout",
     "output_type": "stream",
     "text": [
      "['30', '45']\n",
      "(65, nan)\n",
      "(nan, 17)\n",
      "(nan, nan)\n"
     ]
    }
   ],
   "source": [
    "import re\n",
    "\n",
    "def get_age_bounds(age):\n",
    "    if pd.isna(age): return (np.nan, np.nan)\n",
    "    bounds = re.findall(r'\\d\\d', age)\n",
    "\n",
    "    if len(bounds) == 1:\n",
    "        limit = int(bounds[0])\n",
    "        if limit <= 18: return (np.nan, 17)\n",
    "        if limit > 64: return (limit, np.nan)\n",
    "\n",
    "    if len(bounds) == 2: return bounds\n",
    "\n",
    "    else: return (np.nan, np.nan)\n",
    "\n",
    "#Esempi\n",
    "print(get_age_bounds('30-45 years old'))\n",
    "print(get_age_bounds('Over 65 years old'))\n",
    "print(get_age_bounds('Under 18'))\n",
    "print(get_age_bounds('Prefer not to say'))\n"
   ]
  },
  {
   "cell_type": "markdown",
   "id": "0ae20cc9",
   "metadata": {},
   "source": [
    "\n",
    "Per quanto riguarda le nazioni mi avvalgo della libreria [country_converter](https://pypi.org/project/country-converter/), che usa espressioni regolari per identificare la nazione descritta da una stringa e mi permette di ottenerne il nome nella sua forma più comune (essenziale per il linking con dbpedia) e il codice ISO Alpha-3.\n",
    "Eventuali valori mancanti, paesi non più esistenti e typo vengono trattati come missing values.\n",
    "\n",
    "---\n",
    "\n",
    "### Creazione dataframe standardizzati\n",
    "Usando le funzioni appena discusse, i dati corrispondenti ai sondaggi dei quattro anni considerati vengono organizzati in quattro dataframe con colonne:\n",
    "**['branch', 'country', 'ISO3', 'age_min', 'age_max', 'employment', 'OS', 'langs']**"
   ]
  },
  {
   "cell_type": "code",
   "execution_count": 165,
   "id": "b8c7ef86",
   "metadata": {},
   "outputs": [
    {
     "name": "stdout",
     "output_type": "stream",
     "text": [
      "Processato il sondaggio 2023\n",
      "Processato il sondaggio 2022\n",
      "Processato il sondaggio 2021\n",
      "Processato il sondaggio 2020\n"
     ]
    }
   ],
   "source": [
    "import country_converter as coco\n",
    "cc = coco.CountryConverter()\n",
    "\n",
    "processed_surveys = []\n",
    "\n",
    "for year in range(4):\n",
    "\n",
    "    #Struttura del dataframe lavorato\n",
    "    s = pd.DataFrame(columns=['branch', 'country', 'ISO3', 'age_min', 'age_max', 'employment', 'OS', 'langs'])\n",
    "\n",
    "\n",
    "    #TIPO DI UTENTE\n",
    "    s.branch = surveys[year].MainBranch.apply(lambda x: find_category(x, branch_conversion, default=np.nan))\n",
    "    s.employment = surveys[year].Employment.str.split(';').str.get(0).str.replace(',','').apply(lambda x: find_category(x, employment_conversion, default=np.nan))\n",
    "\n",
    "\n",
    "    #NAZIONI\n",
    "    s.country = surveys[year].Country.apply(lambda name: np.nan if pd.isna(name) or name=='Nomadic' else cc.convert(name, to = 'name_short'))\n",
    "    s.country = s.country.replace(\"not found\", np.nan)\n",
    "    s.ISO3 = s.country.apply(lambda name: np.nan if pd.isna(name) or name=='Nomadic' else cc.convert(name, to = 'ISO3'))\n",
    "    s.ISO3 = s.ISO3.replace(\"not found\", np.nan)\n",
    "\n",
    "\n",
    "    #ETà\n",
    "    if year > 2: #2020\n",
    "        s.age_max = surveys[year].Age\n",
    "        s.age_min = s.age_max\n",
    "    else:       #2021/22/23\n",
    "        s['age_bounds'] = surveys[year].Age.apply(get_age_bounds) if year < 3 else surveys[year].Age.apply(lambda x: (x, x))\n",
    "        s[['age_min', 'age_max']] = s['age_bounds'].apply(lambda x: pd.Series(x))\n",
    "        s = s.drop('age_bounds', axis = 1)\n",
    "\n",
    "\n",
    "\n",
    "    #SITEMI OPERATIVI\n",
    "    if year<=1: #2023 e 2022\n",
    "        personal = surveys[year]['OpSysPersonal use'].str.split(';').apply(lambda l: convert_list(l, os_conversion, default='LinuxBased'))\n",
    "        professional = surveys[year]['OpSysProfessional use'].str.split(';').apply(lambda l: convert_list(l, os_conversion, default='LinuxBased'))\n",
    "        s.OS = pd.concat([personal, professional], axis=1).apply(lambda row: list(set(row[0]+row[1])), axis=1)\n",
    "        \n",
    "    else: #2021 e 2020\n",
    "        s.OS = surveys[year].OpSys.apply(lambda item: find_category(item, os_conversion, default='LinuxBased'))\n",
    "        s.OS = s.OS.apply(lambda x: [x] if pd.notna(x) else [])\n",
    "\n",
    "\n",
    "    #LINGUAGGI\n",
    "    lang_column = 'LanguageHaveWorkedWith' if year<3 else 'LanguageWorkedWith'\n",
    "    s.langs = surveys[year][lang_column].str.split(';').apply(lambda l: convert_list(l, lang_conversion))\n",
    "\n",
    "\n",
    "    #drop di tutte le righe completamente vuote\n",
    "    s.dropna(how='all', inplace=True)\n",
    "    s.reset_index(inplace=True, drop=True)\n",
    "    \n",
    "    processed_surveys.append(s)\n",
    "    print(\"Processato il sondaggio \"+str(2023-year))\n",
    "\n",
    "\n"
   ]
  },
  {
   "cell_type": "code",
   "execution_count": 166,
   "id": "17cfaab0",
   "metadata": {},
   "outputs": [
    {
     "data": {
      "text/plain": [
       "[             branch        country ISO3 age_min age_max employment  \\\n",
       " 0               NaN            NaN  NaN      18      24        NaN   \n",
       " 1         Developer  United States  USA      25      34   FullTime   \n",
       " 2         Developer  United States  USA      45      54   FullTime   \n",
       " 3         Developer  United States  USA      25      34   FullTime   \n",
       " 4         Developer    Philippines  PHL      25      34   FullTime   \n",
       " ...             ...            ...  ...     ...     ...        ...   \n",
       " 89179     Developer         Brazil  BRA      25      34   FullTime   \n",
       " 89180     Developer        Romania  ROU      18      24   FullTime   \n",
       " 89181  NonDeveloper         Israel  ISR     NaN     NaN        NaN   \n",
       " 89182     Developer    Switzerland  CHE     NaN    17.0   PartTime   \n",
       " 89183     Developer           Iran  IRN      35      44   FullTime   \n",
       " \n",
       "                                           OS  \\\n",
       " 0                                         []   \n",
       " 1                  [Windows, MacOS, OtherOS]   \n",
       " 2                           [MacOS, OtherOS]   \n",
       " 3                           [MacOS, OtherOS]   \n",
       " 4                                  [OtherOS]   \n",
       " ...                                      ...   \n",
       " 89179         [LinuxBased, Windows, OtherOS]   \n",
       " 89180                              [Windows]   \n",
       " 89181                              [Windows]   \n",
       " 89182  [Windows, LinuxBased, MacOS, OtherOS]   \n",
       " 89183                              [Windows]   \n",
       " \n",
       "                                                    langs  \n",
       " 0                                                     []  \n",
       " 1                             [HTML, JavaScript, Python]  \n",
       " 2                                             [Bash, Go]  \n",
       " 3      [Bash, HTML, JavaScript, PHP, Ruby, SQL, TypeS...  \n",
       " 4                         [HTML, JavaScript, TypeScript]  \n",
       " ...                                                  ...  \n",
       " 89179          [HTML, Java, JavaScript, SQL, TypeScript]  \n",
       " 89180                          [Dart, Java, Python, SQL]  \n",
       " 89181         [Assembly, Bash, C, C#, Python, Rust, SQL]  \n",
       " 89182  [Bash, C#, HTML, Java, JavaScript, Lua, Object...  \n",
       " 89183              [C#, Go, JavaScript, SQL, TypeScript]  \n",
       " \n",
       " [89184 rows x 8 columns],\n",
       "              branch         country ISO3 age_min age_max   employment  \\\n",
       " 0               NaN             NaN  NaN     NaN     NaN          NaN   \n",
       " 1         Developer          Canada  CAN     NaN     NaN     FullTime   \n",
       " 2      NonDeveloper  United Kingdom  GBR      25      34     FullTime   \n",
       " 3         Developer          Israel  ISR      35      44     FullTime   \n",
       " 4         Developer   United States  USA      25      34     FullTime   \n",
       " ...             ...             ...  ...     ...     ...          ...   \n",
       " 73263     Developer         Nigeria  NGA      25      34     FullTime   \n",
       " 73264     Developer   United States  USA      25      34     FullTime   \n",
       " 73265  NonDeveloper   United States  USA      55      64     FullTime   \n",
       " 73266     Developer  United Kingdom  GBR      55      64     FullTime   \n",
       " 73267     Developer          Canada  CAN      25      34  Independent   \n",
       " \n",
       "                           OS  \\\n",
       " 0                         []   \n",
       " 1           [Windows, MacOS]   \n",
       " 2                  [Windows]   \n",
       " 3                  [Windows]   \n",
       " 4           [Windows, MacOS]   \n",
       " ...                      ...   \n",
       " 73263    [LinuxBased, MacOS]   \n",
       " 73264  [LinuxBased, Windows]   \n",
       " 73265              [Windows]   \n",
       " 73266              [Windows]   \n",
       " 73267  [LinuxBased, Windows]   \n",
       " \n",
       "                                                    langs  \n",
       " 0                                                     []  \n",
       " 1                               [JavaScript, TypeScript]  \n",
       " 2                    [C#, C++, HTML, JavaScript, Python]  \n",
       " 3                      [C#, JavaScript, SQL, TypeScript]  \n",
       " 4         [C#, HTML, JavaScript, SQL, Swift, TypeScript]  \n",
       " ...                                                  ...  \n",
       " 73263  [Bash, Dart, JavaScript, PHP, Python, SQL, Typ...  \n",
       " 73264              [Bash, HTML, JavaScript, Python, SQL]  \n",
       " 73265               [HTML, JavaScript, PHP, Python, SQL]  \n",
       " 73266                                  [C#, Delphi, VBA]  \n",
       " 73267  [C#, JavaScript, Lua, PowerShell, SQL, TypeScr...  \n",
       " \n",
       " [73268 rows x 8 columns],\n",
       "                branch         country ISO3 age_min age_max   employment  \\\n",
       " 0           Developer        Slovakia  SVK      25      34  Independent   \n",
       " 1      LearningToCode     Netherlands  NLD      18      24     FullTime   \n",
       " 2        NonDeveloper          Russia  RUS      18      24     FullTime   \n",
       " 3           Developer         Austria  AUT      35      44     FullTime   \n",
       " 4           Developer  United Kingdom  GBR      25      34  Independent   \n",
       " ...               ...             ...  ...     ...     ...          ...   \n",
       " 83434       Developer   United States  USA      25      34     FullTime   \n",
       " 83435       Developer           Benin  BEN      18      24  Independent   \n",
       " 83436       Developer   United States  USA      25      34     FullTime   \n",
       " 83437       Developer          Canada  CAN      25      34     FullTime   \n",
       " 83438       Developer          Brazil  BRA      18      24     FullTime   \n",
       " \n",
       "                  OS                                             langs  \n",
       " 0           [MacOS]  [C++, HTML, JavaScript, Objective-C, PHP, Swift]  \n",
       " 1         [Windows]                              [JavaScript, Python]  \n",
       " 2           [MacOS]                    [Assembly, C, Python, R, Rust]  \n",
       " 3         [Windows]                          [JavaScript, TypeScript]  \n",
       " 4      [LinuxBased]                         [Bash, HTML, Python, SQL]  \n",
       " ...             ...                                               ...  \n",
       " 83434       [MacOS]                            [Clojure, Kotlin, SQL]  \n",
       " 83435  [LinuxBased]                                                []  \n",
       " 83436     [Windows]                            [Groovy, Java, Python]  \n",
       " 83437       [MacOS]               [Bash, JavaScript, Node.js, Python]  \n",
       " 83438  [LinuxBased]          [Delphi, Elixir, HTML, Java, JavaScript]  \n",
       " \n",
       " [83439 rows x 8 columns],\n",
       "              branch         country ISO3  age_min  age_max   employment  \\\n",
       " 0         Developer         Germany  DEU      NaN      NaN  Independent   \n",
       " 1         Developer  United Kingdom  GBR      NaN      NaN     FullTime   \n",
       " 2      NonDeveloper          Russia  RUS      NaN      NaN          NaN   \n",
       " 3         Developer         Albania  ALB     25.0     25.0          NaN   \n",
       " 4         Developer   United States  USA     31.0     31.0     FullTime   \n",
       " ...             ...             ...  ...      ...      ...          ...   \n",
       " 64456           NaN   United States  USA      NaN      NaN     FullTime   \n",
       " 64457           NaN         Morocco  MAR      NaN      NaN     FullTime   \n",
       " 64458           NaN         Vietnam  VNM      NaN      NaN          NaN   \n",
       " 64459           NaN          Poland  POL      NaN      NaN     FullTime   \n",
       " 64460           NaN           Spain  ESP      NaN      NaN     FullTime   \n",
       " \n",
       "                  OS                                              langs  \n",
       " 0         [Windows]                             [C#, HTML, JavaScript]  \n",
       " 1           [MacOS]                                [JavaScript, Swift]  \n",
       " 2      [LinuxBased]                       [Objective-C, Python, Swift]  \n",
       " 3      [LinuxBased]                                                 []  \n",
       " 4         [Windows]                                  [HTML, Ruby, SQL]  \n",
       " ...             ...                                                ...  \n",
       " 64456     [Windows]                                                 []  \n",
       " 64457            []  [Assembly, Bash, C, C#, C++, Dart, Go, Haskell...  \n",
       " 64458            []                                                 []  \n",
       " 64459     [Windows]                                             [HTML]  \n",
       " 64460     [Windows]                  [C#, HTML, Java, JavaScript, SQL]  \n",
       " \n",
       " [64461 rows x 8 columns]]"
      ]
     },
     "execution_count": 166,
     "metadata": {},
     "output_type": "execute_result"
    }
   ],
   "source": [
    "processed_surveys"
   ]
  },
  {
   "cell_type": "code",
   "execution_count": 68,
   "id": "e4530ee5",
   "metadata": {
    "pycharm": {
     "name": "#%%\n"
    }
   },
   "outputs": [
    {
     "ename": "NameError",
     "evalue": "name 'processed_surveys' is not defined",
     "output_type": "error",
     "traceback": [
      "\u001B[1;31m---------------------------------------------------------------------------\u001B[0m",
      "\u001B[1;31mNameError\u001B[0m                                 Traceback (most recent call last)",
      "Cell \u001B[1;32mIn[68], line 2\u001B[0m\n\u001B[0;32m      1\u001B[0m \u001B[38;5;28;01mfor\u001B[39;00m y \u001B[38;5;129;01min\u001B[39;00m \u001B[38;5;28mrange\u001B[39m(\u001B[38;5;241m4\u001B[39m):\n\u001B[1;32m----> 2\u001B[0m     \u001B[43mprocessed_surveys\u001B[49m[y]\u001B[38;5;241m.\u001B[39mto_csv(\u001B[38;5;124m\"\u001B[39m\u001B[38;5;124mSondaggio \u001B[39m\u001B[38;5;124m\"\u001B[39m\u001B[38;5;241m+\u001B[39m \u001B[38;5;28mstr\u001B[39m(\u001B[38;5;241m2023\u001B[39m\u001B[38;5;241m-\u001B[39my) \u001B[38;5;241m+\u001B[39m \u001B[38;5;124m\"\u001B[39m\u001B[38;5;124m lavorato.csv\u001B[39m\u001B[38;5;124m\"\u001B[39m)\n",
      "\u001B[1;31mNameError\u001B[0m: name 'processed_surveys' is not defined"
     ]
    }
   ],
   "source": [
    "for y in range(4):\n",
    "    processed_surveys[y].to_csv(\"processed/Sondaggio \"+ str(2023-y) + \" lavorato.csv\")"
   ]
  },
  {
   "cell_type": "markdown",
   "id": "5e34391d",
   "metadata": {
    "pycharm": {
     "name": "#%% md\n"
    }
   },
   "source": [
    "---\n",
    "\n",
    "# Parte 2 - RDF e linking\n",
    "Adesso procedo a usare le tabelle create nella parte 1 per popolare un grafo RDF."
   ]
  },
  {
   "cell_type": "code",
   "execution_count": 4,
   "id": "5b8b96c0",
   "metadata": {
    "pycharm": {
     "name": "#%%\n"
    }
   },
   "outputs": [],
   "source": [
    "import pandas as pd\n",
    "import numpy as np\n",
    "from ast import literal_eval\n",
    "from urllib.parse import quote, unquote\n",
    "from SPARQLWrapper import SPARQLWrapper, JSON, CSV\n",
    "from rdflib import Graph, Literal, Namespace, URIRef\n",
    "from rdflib.namespace import RDF, RDFS, OWL"
   ]
  },
  {
   "cell_type": "code",
   "execution_count": 5,
   "id": "547d361c",
   "metadata": {
    "pycharm": {
     "name": "#%%\n"
    }
   },
   "outputs": [],
   "source": [
    "#Lettura DF ordinati\n",
    "processed_surveys = [pd.read_csv('processed/Sondaggio '+ str(year) + \" lavorato.csv\", low_memory=False, index_col=0) for year in range(2023, 2019,-1)]"
   ]
  },
  {
   "cell_type": "markdown",
   "id": "4ccd3cb1",
   "metadata": {
    "pycharm": {
     "name": "#%% md\n"
    }
   },
   "source": [
    "Urify trasforma una stringa in una URI valida."
   ]
  },
  {
   "cell_type": "code",
   "execution_count": 6,
   "id": "7962338d",
   "metadata": {},
   "outputs": [],
   "source": [
    "\n",
    "def urify(name):\n",
    "    return quote(str(name).replace(\" \",\"_\").replace(\"?\",\"\"))\n",
    "\n",
    "def deurify(uri):\n",
    "    return unquote(str(uri).replace(\"_\",\" \").replace(\"\",\"?\"))"
   ]
  },
  {
   "cell_type": "markdown",
   "id": "e40bc987",
   "metadata": {
    "pycharm": {
     "name": "#%% md\n"
    }
   },
   "source": [
    "Per distinguere gli elementi dell'ontologia dalle istanze di dati uso due prefissi diversi: **SDO** e **SDR**."
   ]
  },
  {
   "cell_type": "code",
   "execution_count": 24,
   "id": "066368e6",
   "metadata": {
    "pycharm": {
     "name": "#%%\n"
    }
   },
   "outputs": [],
   "source": [
    "\n",
    "#Prefissi\n",
    "base_uri = 'http://www.so.developersurvey.org/resource/'\n",
    "ontology_uri = 'http://www.so.developersurvey.org/ontology/'\n",
    "dbpedia = 'http://www.dbpedia.org/resource/'\n",
    "\n",
    "g=Graph()\n",
    "\n",
    "#Namespaces\n",
    "sdo = Namespace(ontology_uri)\n",
    "g.bind('sdo', sdo)\n",
    "sdr = Namespace(base_uri)\n",
    "g.bind('sdr', sdr)\n",
    "dbr = Namespace(dbpedia)\n",
    "g.bind('dbr', dbr)\n",
    "\n"
   ]
  },
  {
   "cell_type": "markdown",
   "id": "7609e8b4",
   "metadata": {
    "pycharm": {
     "name": "#%% md\n"
    }
   },
   "source": [
    "---\n",
    "## Linking dei linguaggi\n",
    "Tradurre ogni linguaggio di programmazione in una uri dbpedia valida si è rivelato un compito molto complesso, dato che molti nomi portano a delle disambiguazioni, e non c'è buona coerenza tra le classi dbo a cui appartengono le loro pagine.\n",
    "Fortunatamente, però, sono riuscito a trovare [un dataset](https://www.back4app.com/database/paul-datasets/list-of-all-programming-languages/dataset) pubblico che mette in relazione i nomi di centinaia di linguaggi con i corrispettivi link di Wikipedia.\n",
    "\n",
    "Dato che il dataset non proviene da una fonte altamente affidabile, prima di procedere ho ritenuto opportuno verificare che fosse corretto quanto meno per le lingue presenti nei miei dati. Perciò, dopo avere estratto i nomi dalle url Wikipedia ho effettuato delle query sparql per confermare l'esistenza di una pagina dbpedia per ogni linguaggio di programmazione menzionato nei sondaggi, e ne ho controllato il contenuto."
   ]
  },
  {
   "cell_type": "code",
   "execution_count": 8,
   "id": "829c8968",
   "metadata": {
    "pycharm": {
     "name": "#%%\n"
    }
   },
   "outputs": [],
   "source": [
    "lang_uris = pd.read_csv('raw/all_programming_languages.csv', low_memory=False)\n",
    "lang_uris.ProgrammingLanguage = lang_uris.ProgrammingLanguage.apply(lambda x: x.lower())\n",
    "lang_uris = lang_uris.set_index('ProgrammingLanguage')['Source'].str.split('/').str.get(-1)"
   ]
  },
  {
   "cell_type": "code",
   "execution_count": 68,
   "id": "0b3716d2",
   "metadata": {
    "pycharm": {
     "name": "#%%\n"
    }
   },
   "outputs": [
    {
     "name": "stdout",
     "output_type": "stream",
     "text": [
      "html: http://dbpedia.org/resource/HTML\n",
      "javascript: http://dbpedia.org/resource/JavaScript\n",
      "python: http://dbpedia.org/resource/Python_(programming_language)\n",
      "shell: http://dbpedia.org/resource/Shell_(computing)\n",
      "go: http://dbpedia.org/resource/Go_(programming_language)\n",
      "php: http://dbpedia.org/resource/PHP\n",
      "ruby: http://dbpedia.org/resource/Ruby_(programming_language)\n",
      "sql: http://dbpedia.org/resource/SQL\n",
      "typescript: http://dbpedia.org/resource/TypeScript\n",
      "ada: http://dbpedia.org/resource/Ada_(programming_language)\n",
      "clojure: http://dbpedia.org/resource/Clojure\n",
      "elixir: http://dbpedia.org/resource/Elixir_(programming_language)\n",
      "java: http://dbpedia.org/resource/Java_(programming_language)\n",
      "lisp: http://dbpedia.org/resource/Lisp_(programming_language)\n",
      "ocaml: http://dbpedia.org/resource/OCaml\n",
      "raku: http://dbpedia.org/resource/Raku_(programming_language)\n",
      "scala: http://dbpedia.org/resource/Scala_(programming_language)\n",
      "swift: http://dbpedia.org/resource/Swift_(programming_language)\n",
      "zig: http://dbpedia.org/resource/Zig_(programming_language)\n",
      "rust: http://dbpedia.org/resource/Rust_(programming_language)\n",
      "c#: http://dbpedia.org/resource/C_Sharp_(programming_language)\n",
      "c++: http://dbpedia.org/resource/C%2B%2B\n",
      "kotlin: http://dbpedia.org/resource/Kotlin_(programming_language)\n",
      "solidity: http://dbpedia.org/resource/Solidity\n",
      "c: http://dbpedia.org/resource/C_(programming_language)\n",
      "perl: http://dbpedia.org/resource/Perl\n",
      "dart: http://dbpedia.org/resource/Dart_(programming_language)\n",
      "haskell: http://dbpedia.org/resource/Haskell_(programming_language)\n",
      "assembly: http://dbpedia.org/resource/Assembly_language\n",
      "delphi: http://dbpedia.org/resource/Delphi_(programming_language)\n",
      "r: http://dbpedia.org/resource/R_(programming_language)\n",
      "lua: http://dbpedia.org/resource/Lua_(programming_language)\n",
      "matlab: http://dbpedia.org/resource/MATLAB\n",
      "vba: http://dbpedia.org/resource/Visual_Basic_for_Applications\n",
      "visual basic .net: http://dbpedia.org/resource/Visual_Basic_.NET\n",
      "julia: http://dbpedia.org/resource/Julia_(programming_language)\n",
      "f#: http://dbpedia.org/resource/F_Sharp_(programming_language)\n",
      "groovy: http://dbpedia.org/resource/Groovy_(programming_language)\n",
      "apl: http://dbpedia.org/resource/APL_(programming_language)\n",
      "objective-c: http://dbpedia.org/resource/Objective-C\n",
      "gdscript: http://dbpedia.org/resource/Godot_(game_engine)\n",
      "crystal: http://dbpedia.org/resource/Crystal_(programming_language)\n",
      "cobol: http://dbpedia.org/resource/COBOL\n",
      "fortran: http://dbpedia.org/resource/Fortran\n",
      "prolog: http://dbpedia.org/resource/Prolog\n",
      "erlang: http://dbpedia.org/resource/Erlang_(programming_language)\n",
      "apex: http://dbpedia.org/resource/Salesforce\n",
      "sas: http://dbpedia.org/resource/SASL_(programming_language)\n",
      "nim: http://dbpedia.org/resource/Nim_(programming_language)\n",
      "flow: http://dbpedia.org/resource/FLOW_(programming_language)\n",
      "node.js: http://dbpedia.org/resource/Node.js\n"
     ]
    }
   ],
   "source": [
    "sparql = SPARQLWrapper(\"http://dbpedia.org/sparql\")\n",
    "sparql.setReturnFormat(JSON)\n",
    "\n",
    "all_surveys = pd.concat(processed_surveys, ignore_index=True)\n",
    "all_langs = all_surveys.langs.apply(literal_eval).explode().dropna().apply(lambda x: x.lower()).unique()\n",
    "\n",
    "for item in all_langs:\n",
    "    uri = dbpedia+lang_uris.loc[item]\n",
    "\n",
    "    sparql.setQuery(\"\"\"\n",
    "        ASK{\n",
    "            VALUES (?r) {(<%s>)}\n",
    "             ?r [] [].\n",
    "        }\n",
    "    \"\"\"%unquote(uri))\n",
    "\n",
    "    try:\n",
    "        if sparql.query().convert()['boolean']:\n",
    "            print(item+': '+uri)\n",
    "\n",
    "        else:\n",
    "            print(item + ' -- Not found!')\n",
    "    except:\n",
    "        print(item + ' -- Bad request!')\n",
    "\n"
   ]
  },
  {
   "cell_type": "markdown",
   "id": "e9e068ce",
   "metadata": {},
   "source": [
    "## Linking delle nazioni"
   ]
  },
  {
   "cell_type": "markdown",
   "id": "d021ddca",
   "metadata": {},
   "source": [
    "Successivamente applico lo stesso controllo alle nazioni ottenute da country_converter."
   ]
  },
  {
   "cell_type": "code",
   "execution_count": 10,
   "id": "37c8cd87",
   "metadata": {
    "pycharm": {
     "name": "#%%\n"
    }
   },
   "outputs": [
    {
     "name": "stdout",
     "output_type": "stream",
     "text": [
      "United_States: http://www.dbpedia.org/resource/United_States\n",
      "Philippines: http://www.dbpedia.org/resource/Philippines\n",
      "United_Kingdom: http://www.dbpedia.org/resource/United_Kingdom\n",
      "Finland: http://www.dbpedia.org/resource/Finland\n",
      "India: http://www.dbpedia.org/resource/India\n",
      "Australia: http://www.dbpedia.org/resource/Australia\n",
      "Netherlands: http://www.dbpedia.org/resource/Netherlands\n",
      "Germany: http://www.dbpedia.org/resource/Germany\n",
      "Sweden: http://www.dbpedia.org/resource/Sweden\n",
      "France: http://www.dbpedia.org/resource/France\n",
      "Albania: http://www.dbpedia.org/resource/Albania\n",
      "Nigeria: http://www.dbpedia.org/resource/Nigeria\n",
      "Spain: http://www.dbpedia.org/resource/Spain\n",
      "South_Africa: http://www.dbpedia.org/resource/South_Africa\n",
      "Belgium: http://www.dbpedia.org/resource/Belgium\n",
      "Italy: http://www.dbpedia.org/resource/Italy\n",
      "Brazil: http://www.dbpedia.org/resource/Brazil\n",
      "Portugal: http://www.dbpedia.org/resource/Portugal\n",
      "Bangladesh: http://www.dbpedia.org/resource/Bangladesh\n",
      "Canada: http://www.dbpedia.org/resource/Canada\n",
      "Argentina: http://www.dbpedia.org/resource/Argentina\n",
      "Switzerland: http://www.dbpedia.org/resource/Switzerland\n",
      "Sri_Lanka: http://www.dbpedia.org/resource/Sri_Lanka\n",
      "Poland: http://www.dbpedia.org/resource/Poland\n",
      "Lebanon: http://www.dbpedia.org/resource/Lebanon\n",
      "Lithuania: http://www.dbpedia.org/resource/Lithuania\n",
      "Serbia: http://www.dbpedia.org/resource/Serbia\n",
      "Cyprus: http://www.dbpedia.org/resource/Cyprus\n",
      "China: http://www.dbpedia.org/resource/China\n",
      "Bahrain: http://www.dbpedia.org/resource/Bahrain\n",
      "Iran: http://www.dbpedia.org/resource/Iran\n",
      "Pakistan: http://www.dbpedia.org/resource/Pakistan\n",
      "Egypt: http://www.dbpedia.org/resource/Egypt\n",
      "Russia: http://www.dbpedia.org/resource/Russia\n",
      "Türkiye: http://www.dbpedia.org/resource/Türkiye\n",
      "Slovakia: http://www.dbpedia.org/resource/Slovakia\n",
      "Latvia: http://www.dbpedia.org/resource/Latvia\n",
      "Greece: http://www.dbpedia.org/resource/Greece\n",
      "Austria: http://www.dbpedia.org/resource/Austria\n",
      "Denmark: http://www.dbpedia.org/resource/Denmark\n",
      "Israel: http://www.dbpedia.org/resource/Israel\n",
      "Norway: http://www.dbpedia.org/resource/Norway\n",
      "Hungary: http://www.dbpedia.org/resource/Hungary\n",
      "Singapore: http://www.dbpedia.org/resource/Singapore\n",
      "United_Arab_Emirates: http://www.dbpedia.org/resource/United_Arab_Emirates\n",
      "Croatia: http://www.dbpedia.org/resource/Croatia\n",
      "Czechia: http://www.dbpedia.org/resource/Czechia\n",
      "Kosovo: http://www.dbpedia.org/resource/Kosovo\n",
      "Nepal: http://www.dbpedia.org/resource/Nepal\n",
      "Slovenia: http://www.dbpedia.org/resource/Slovenia\n",
      "Romania: http://www.dbpedia.org/resource/Romania\n",
      "Luxembourg: http://www.dbpedia.org/resource/Luxembourg\n",
      "Indonesia: http://www.dbpedia.org/resource/Indonesia\n",
      "Tunisia: http://www.dbpedia.org/resource/Tunisia\n",
      "South_Korea: http://www.dbpedia.org/resource/South_Korea\n",
      "Vietnam: http://www.dbpedia.org/resource/Vietnam\n",
      "Ukraine: http://www.dbpedia.org/resource/Ukraine\n",
      "Kenya: http://www.dbpedia.org/resource/Kenya\n",
      "Dominican_Republic: http://www.dbpedia.org/resource/Dominican_Republic\n",
      "Morocco: http://www.dbpedia.org/resource/Morocco\n",
      "Uzbekistan: http://www.dbpedia.org/resource/Uzbekistan\n",
      "Belarus: http://www.dbpedia.org/resource/Belarus\n",
      "Isle_of_Man: http://www.dbpedia.org/resource/Isle_of_Man\n",
      "Estonia: http://www.dbpedia.org/resource/Estonia\n",
      "Bulgaria: http://www.dbpedia.org/resource/Bulgaria\n",
      "North_Macedonia: http://www.dbpedia.org/resource/North_Macedonia\n",
      "Georgia: http://www.dbpedia.org/resource/Georgia\n",
      "Ireland: http://www.dbpedia.org/resource/Ireland\n",
      "Benin: http://www.dbpedia.org/resource/Benin\n",
      "Qatar: http://www.dbpedia.org/resource/Qatar\n",
      "Japan: http://www.dbpedia.org/resource/Japan\n",
      "Venezuela: http://www.dbpedia.org/resource/Venezuela\n",
      "Tajikistan: http://www.dbpedia.org/resource/Tajikistan\n",
      "Malta: http://www.dbpedia.org/resource/Malta\n",
      "Colombia: http://www.dbpedia.org/resource/Colombia\n",
      "Bhutan: http://www.dbpedia.org/resource/Bhutan\n",
      "Taiwan: http://www.dbpedia.org/resource/Taiwan\n",
      "Armenia: http://www.dbpedia.org/resource/Armenia\n",
      "Oman: http://www.dbpedia.org/resource/Oman\n",
      "El_Salvador: http://www.dbpedia.org/resource/El_Salvador\n",
      "Cuba: http://www.dbpedia.org/resource/Cuba\n",
      "Cambodia: http://www.dbpedia.org/resource/Cambodia\n",
      "Montenegro: http://www.dbpedia.org/resource/Montenegro\n",
      "Malaysia: http://www.dbpedia.org/resource/Malaysia\n",
      "Bosnia_and_Herzegovina: http://www.dbpedia.org/resource/Bosnia_and_Herzegovina\n",
      "Zimbabwe: http://www.dbpedia.org/resource/Zimbabwe\n",
      "Saudi_Arabia: http://www.dbpedia.org/resource/Saudi_Arabia\n",
      "Thailand: http://www.dbpedia.org/resource/Thailand\n",
      "Hong_Kong: http://www.dbpedia.org/resource/Hong_Kong\n",
      "Peru: http://www.dbpedia.org/resource/Peru\n",
      "Azerbaijan: http://www.dbpedia.org/resource/Azerbaijan\n",
      "Afghanistan: http://www.dbpedia.org/resource/Afghanistan\n",
      "Djibouti: http://www.dbpedia.org/resource/Djibouti\n",
      "Ethiopia: http://www.dbpedia.org/resource/Ethiopia\n",
      "Paraguay: http://www.dbpedia.org/resource/Paraguay\n",
      "New_Zealand: http://www.dbpedia.org/resource/New_Zealand\n",
      "Panama: http://www.dbpedia.org/resource/Panama\n",
      "Zambia: http://www.dbpedia.org/resource/Zambia\n",
      "Nicaragua: http://www.dbpedia.org/resource/Nicaragua\n",
      "Mauritius: http://www.dbpedia.org/resource/Mauritius\n",
      "Uruguay: http://www.dbpedia.org/resource/Uruguay\n",
      "Congo_Republic: http://www.dbpedia.org/resource/Congo_Republic\n",
      "Kyrgyz_Republic: http://www.dbpedia.org/resource/Kyrgyz_Republic\n",
      "Ghana: http://www.dbpedia.org/resource/Ghana\n",
      "Andorra: http://www.dbpedia.org/resource/Andorra\n",
      "Kazakhstan: http://www.dbpedia.org/resource/Kazakhstan\n",
      "Jordan: http://www.dbpedia.org/resource/Jordan\n",
      "Iceland: http://www.dbpedia.org/resource/Iceland\n",
      "St._Vincent_and_the_Grenadines: http://www.dbpedia.org/resource/St._Vincent_and_the_Grenadines\n",
      "Trinidad_and_Tobago: http://www.dbpedia.org/resource/Trinidad_and_Tobago\n",
      "Ecuador: http://www.dbpedia.org/resource/Ecuador\n",
      "Uganda: http://www.dbpedia.org/resource/Uganda\n",
      "Mexico: http://www.dbpedia.org/resource/Mexico\n",
      "Moldova: http://www.dbpedia.org/resource/Moldova\n",
      "Guatemala: http://www.dbpedia.org/resource/Guatemala\n",
      "Mongolia: http://www.dbpedia.org/resource/Mongolia\n",
      "Chile: http://www.dbpedia.org/resource/Chile\n",
      "Tanzania: http://www.dbpedia.org/resource/Tanzania\n",
      "Myanmar: http://www.dbpedia.org/resource/Myanmar\n",
      "Algeria: http://www.dbpedia.org/resource/Algeria\n",
      "Bolivia: http://www.dbpedia.org/resource/Bolivia\n",
      "Belize: http://www.dbpedia.org/resource/Belize\n",
      "Eswatini: http://www.dbpedia.org/resource/Eswatini\n",
      "Syria: http://www.dbpedia.org/resource/Syria\n",
      "Somalia: http://www.dbpedia.org/resource/Somalia\n",
      "Jamaica: http://www.dbpedia.org/resource/Jamaica\n",
      "Cote_d'Ivoire -- Bad request!\n",
      "Costa_Rica: http://www.dbpedia.org/resource/Costa_Rica\n",
      "Honduras: http://www.dbpedia.org/resource/Honduras\n",
      "Yemen: http://www.dbpedia.org/resource/Yemen\n",
      "Iraq: http://www.dbpedia.org/resource/Iraq\n",
      "Palestine: http://www.dbpedia.org/resource/Palestine\n",
      "Senegal: http://www.dbpedia.org/resource/Senegal\n",
      "Laos: http://www.dbpedia.org/resource/Laos\n",
      "Rwanda: http://www.dbpedia.org/resource/Rwanda\n",
      "Malawi: http://www.dbpedia.org/resource/Malawi\n",
      "Sierra_Leone: http://www.dbpedia.org/resource/Sierra_Leone\n",
      "Guinea: http://www.dbpedia.org/resource/Guinea\n",
      "Fiji: http://www.dbpedia.org/resource/Fiji\n",
      "North_Korea: http://www.dbpedia.org/resource/North_Korea\n",
      "Maldives: http://www.dbpedia.org/resource/Maldives\n",
      "Barbados: http://www.dbpedia.org/resource/Barbados\n",
      "Kuwait: http://www.dbpedia.org/resource/Kuwait\n",
      "Brunei_Darussalam: http://www.dbpedia.org/resource/Brunei_Darussalam\n",
      "Palau: http://www.dbpedia.org/resource/Palau\n",
      "Angola: http://www.dbpedia.org/resource/Angola\n",
      "Turkmenistan: http://www.dbpedia.org/resource/Turkmenistan\n",
      "Libya: http://www.dbpedia.org/resource/Libya\n",
      "Madagascar: http://www.dbpedia.org/resource/Madagascar\n",
      "Lesotho: http://www.dbpedia.org/resource/Lesotho\n",
      "Cameroon: http://www.dbpedia.org/resource/Cameroon\n",
      "Mozambique: http://www.dbpedia.org/resource/Mozambique\n",
      "Gabon: http://www.dbpedia.org/resource/Gabon\n",
      "Niger: http://www.dbpedia.org/resource/Niger\n",
      "DR_Congo: http://www.dbpedia.org/resource/DR_Congo\n",
      "Mali: http://www.dbpedia.org/resource/Mali\n",
      "Burkina_Faso: http://www.dbpedia.org/resource/Burkina_Faso\n",
      "Guinea-Bissau: http://www.dbpedia.org/resource/Guinea-Bissau\n",
      "Botswana: http://www.dbpedia.org/resource/Botswana\n",
      "Liberia: http://www.dbpedia.org/resource/Liberia\n",
      "Mauritania: http://www.dbpedia.org/resource/Mauritania\n",
      "Timor-Leste: http://www.dbpedia.org/resource/Timor-Leste\n",
      "Antigua_and_Barbuda: http://www.dbpedia.org/resource/Antigua_and_Barbuda\n",
      "Grenada: http://www.dbpedia.org/resource/Grenada\n",
      "Togo: http://www.dbpedia.org/resource/Togo\n",
      "Dominica: http://www.dbpedia.org/resource/Dominica\n",
      "Guyana: http://www.dbpedia.org/resource/Guyana\n",
      "Namibia: http://www.dbpedia.org/resource/Namibia\n",
      "Haiti: http://www.dbpedia.org/resource/Haiti\n",
      "Sudan: http://www.dbpedia.org/resource/Sudan\n",
      "St._Lucia: http://www.dbpedia.org/resource/St._Lucia\n",
      "Monaco: http://www.dbpedia.org/resource/Monaco\n",
      "Bahamas: http://www.dbpedia.org/resource/Bahamas\n",
      "Liechtenstein: http://www.dbpedia.org/resource/Liechtenstein\n",
      "Burundi: http://www.dbpedia.org/resource/Burundi\n",
      "St._Kitts_and_Nevis: http://www.dbpedia.org/resource/St._Kitts_and_Nevis\n",
      "Marshall_Islands: http://www.dbpedia.org/resource/Marshall_Islands\n",
      "Samoa: http://www.dbpedia.org/resource/Samoa\n",
      "Suriname: http://www.dbpedia.org/resource/Suriname\n",
      "Central_African_Republic: http://www.dbpedia.org/resource/Central_African_Republic\n",
      "Cabo_Verde: http://www.dbpedia.org/resource/Cabo_Verde\n",
      "San_Marino: http://www.dbpedia.org/resource/San_Marino\n",
      "Chad: http://www.dbpedia.org/resource/Chad\n",
      "Papua_New_Guinea: http://www.dbpedia.org/resource/Papua_New_Guinea\n",
      "Gambia: http://www.dbpedia.org/resource/Gambia\n",
      "Seychelles: http://www.dbpedia.org/resource/Seychelles\n",
      "Solomon_Islands: http://www.dbpedia.org/resource/Solomon_Islands\n",
      "Micronesia,_Fed._Sts. -- Bad request!\n",
      "Tuvalu: http://www.dbpedia.org/resource/Tuvalu\n",
      "Eritrea: http://www.dbpedia.org/resource/Eritrea\n",
      "Nauru: http://www.dbpedia.org/resource/Nauru\n",
      "Kiribati: http://www.dbpedia.org/resource/Kiribati\n"
     ]
    }
   ],
   "source": [
    "\n",
    "sparql = SPARQLWrapper(\"http://dbpedia.org/sparql\")\n",
    "sparql.setReturnFormat(JSON)\n",
    "\n",
    "\n",
    "all_surveys = pd.concat(processed_surveys, ignore_index=True)\n",
    "all_countries = all_surveys.country.dropna().unique()\n",
    "\n",
    "\n",
    "for item in all_countries:\n",
    "    name = unquote(urify(item))\n",
    "    sparql.setQuery(\"\"\"\n",
    "        ASK\n",
    "        {\n",
    "            dbr:%s [] [].\n",
    "        }\n",
    "    \"\"\"%name)\n",
    "\n",
    "    try:\n",
    "        if sparql.query().convert()['boolean']:\n",
    "            print(name+ ': ' + dbpedia + name)\n",
    "\n",
    "        else:\n",
    "            print(name + ' -- Not found!')\n",
    "    except:\n",
    "        print(name + ' -- Bad request!')\n",
    "\n"
   ]
  },
  {
   "cell_type": "markdown",
   "id": "9a356461",
   "metadata": {},
   "source": [
    "A questo punto posso già aggiungere le nazioni al grafo, effettuando il collegamento agli oggetti equivalenti di dbpedia con la object property owl:sameAs."
   ]
  },
  {
   "cell_type": "code",
   "execution_count": 25,
   "id": "12770aa9",
   "metadata": {
    "pycharm": {
     "name": "#%%\n"
    }
   },
   "outputs": [],
   "source": [
    "import country_converter as coco\n",
    "cc = coco.CountryConverter()\n",
    "\n",
    "all_surveys = pd.concat(processed_surveys, ignore_index=True)\n",
    "all_countries = all_surveys.country.dropna().unique()\n",
    "all_countries = pd.Series(all_countries)\n",
    "all_iso = all_countries.apply(lambda x: cc.convert(x, to=\"ISO3\"))\n",
    "all_country_codes = pd.DataFrame({'Country':all_countries, 'ISO3':all_iso})\n",
    "\n",
    "for id, row in all_country_codes.iterrows():\n",
    "    country_uri = base_uri+urify(row.Country)\n",
    "    g.add([URIRef(country_uri), URIRef(RDF.type), URIRef(sdo.Country)])\n",
    "    g.add([URIRef(country_uri), URIRef(RDFS.label), Literal(row.Country)])\n",
    "    g.add([URIRef(country_uri), URIRef(OWL.sameAs), URIRef(dbpedia+urify(row.Country))])\n",
    "    g.add([URIRef(country_uri), URIRef(sdo.ISO_A3), Literal(row.ISO3)])"
   ]
  },
  {
   "cell_type": "markdown",
   "id": "c89f99b3",
   "metadata": {},
   "source": [
    "---\n",
    "## Popolazione grafo\n",
    "Adesso è il turno dei dati relativi ai sondaggi specifici.\n",
    "add_survey prende in input uno dei dataframe ottenuti nella fase 1 e l'anno di riferimento e li usa per popolare il grafo.\n",
    "- Inizialmente aggiunge l'istanza relativa al sondaggio in generale e le relative proprietà.\n",
    "- Successivamente aggiunge i linguaggi di programmazione, e usando il dataset degli uri già menzionato li collega con dbpedia.\n",
    "- Infine per ogni riga del dataframe aggiunge le triple corrispondenti al singolo utente.\n",
    "\n",
    "Il motivo per cui i linguaggi sono aggiunti adesso e non a parte sta nel fatto che li associo ai sondaggi dove compaiono come opzione.\n",
    "Questo causa della ridondanza quando una lingua è presente in più sondaggi e fa in modo che il programma tenti di reinserire delle triple uguali, ma si tratta di pochi elementi che non hanno un grande impatto sul tempo di esecuzione."
   ]
  },
  {
   "cell_type": "code",
   "execution_count": 26,
   "id": "59dc9d4b",
   "metadata": {},
   "outputs": [],
   "source": [
    "def add_survey(survey, year):\n",
    "    #survey = survey.head(5)\n",
    "\n",
    "    #aggiunta sondaggi\n",
    "    survey_uri = base_uri+'survey_'+str(year)\n",
    "    g.add([URIRef(survey_uri), URIRef(RDF.type), URIRef(sdo.StackOverflowSurvey)])\n",
    "    g.add([URIRef(survey_uri), URIRef(sdo.year), Literal(year)])\n",
    "    g.add([URIRef(survey_uri), URIRef(sdo.totalResponses), Literal(len(survey.index))])\n",
    "    \n",
    "    \n",
    "    #aggiunta linguaggi\n",
    "    for lang in survey.langs.apply(literal_eval).explode().dropna().unique():\n",
    "        my_lang_uri = base_uri+urify(lang)\n",
    "        g.add([URIRef(my_lang_uri), URIRef(RDF.type), URIRef(sdo.ProgrammingLanguage)])\n",
    "        g.add([URIRef(my_lang_uri), URIRef(RDFS.label), Literal(lang)])\n",
    "        g.add([URIRef(my_lang_uri), URIRef(sdo.isOptionInSurvey), URIRef(survey_uri)])\n",
    "        g.add([URIRef(survey_uri), URIRef(sdo.hasLanguageOption), URIRef(my_lang_uri)])\n",
    "        g.add([URIRef(my_lang_uri), URIRef(OWL.sameAs), URIRef(dbpedia+urify(lang_uris.loc[lang.lower()]))])\n",
    "\n",
    "    #aggiunta risposte\n",
    "    for ind, row in survey.iterrows():\n",
    "        row_uri = base_uri+str(year)+'_'+str(ind)\n",
    "        \n",
    "        #branch\n",
    "        row_type = sdo.SurveyRespondant\n",
    "        if not pd.isna(row.branch):row_type = ontology_uri+row.branch\n",
    "        g.add([URIRef(row_uri), URIRef(RDF.type), URIRef(row_type)])\n",
    "        g.add([URIRef(row_uri), URIRef(sdo.isFromSurvey), URIRef(survey_uri)])\n",
    "        \n",
    "        #country\n",
    "        if not pd.isna(row.country):\n",
    "            g.add([URIRef(row_uri), URIRef(sdo.isFromCountry), URIRef(base_uri+urify(row.country))])\n",
    "        \n",
    "        #age\n",
    "        if not pd.isna(row.age_min):\n",
    "            g.add([URIRef(row_uri), URIRef(sdo.minAge), Literal(int(row.age_min))])\n",
    "\n",
    "        if not pd.isna(row.age_max):\n",
    "            g.add([URIRef(row_uri), URIRef(sdo.maxAge), Literal(int(row.age_max))])\n",
    "\n",
    "        \n",
    "        #employment\n",
    "        if not pd.isna(row.employment):\n",
    "            g.add([URIRef(row_uri), URIRef(sdo.hasEmployment), URIRef(ontology_uri+row.employment)])\n",
    "        \n",
    "        #os\n",
    "        if len(row.OS)>0:\n",
    "            for os in literal_eval(row.OS):\n",
    "                g.add([URIRef(row_uri), URIRef(sdo.usesOS), URIRef(ontology_uri+os)])\n",
    "\n",
    "        #language\n",
    "        if len(row.langs)>0:\n",
    "            for l in literal_eval(row.langs):\n",
    "                g.add([URIRef(row_uri), URIRef(sdo.usesLanguage), URIRef(base_uri+urify(l))])\n"
   ]
  },
  {
   "cell_type": "code",
   "execution_count": 27,
   "id": "5d3b2676",
   "metadata": {},
   "outputs": [
    {
     "name": "stdout",
     "output_type": "stream",
     "text": [
      "2023 Was added to the graph.\n",
      "2022 Was added to the graph.\n",
      "2021 Was added to the graph.\n",
      "2020 Was added to the graph.\n"
     ]
    }
   ],
   "source": [
    "for n in range(4):\n",
    "    add_survey(processed_surveys[n], 2023-n)\n",
    "    print(str(2023-n) + \" Was added to the graph.\")"
   ]
  },
  {
   "cell_type": "markdown",
   "id": "17c5fba5",
   "metadata": {
    "pycharm": {
     "name": "#%% md\n"
    }
   },
   "source": [
    "Concludo con la serializzazione del grafo in formato turtle"
   ]
  },
  {
   "cell_type": "code",
   "execution_count": 28,
   "id": "f4253c2a",
   "metadata": {
    "pycharm": {
     "name": "#%%\n"
    }
   },
   "outputs": [
    {
     "data": {
      "text/plain": [
       "<Graph identifier=N39d64e624a9a4abab756ce21e7b78822 (<class 'rdflib.graph.Graph'>)>"
      ]
     },
     "execution_count": 28,
     "metadata": {},
     "output_type": "execute_result"
    }
   ],
   "source": [
    "g.serialize(destination='RDF/surveys_rdf_data.ttl',\n",
    "            format='turtle')"
   ]
  }
 ],
 "metadata": {
  "kernelspec": {
   "display_name": "Python 3 (ipykernel)",
   "language": "python",
   "name": "python3"
  },
  "language_info": {
   "codemirror_mode": {
    "name": "ipython",
    "version": 3
   },
   "file_extension": ".py",
   "mimetype": "text/x-python",
   "name": "python",
   "nbconvert_exporter": "python",
   "pygments_lexer": "ipython3",
   "version": "3.10.1"
  }
 },
 "nbformat": 4,
 "nbformat_minor": 5
}
