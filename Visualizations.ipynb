{
 "cells": [
  {
   "metadata": {},
   "cell_type": "markdown",
   "source": [
    "# Parte 3 - Visualizzazioni e query\n",
    "A seguire alcune osservazioni sui dati accompagnate da visualizzazioni.\n",
    "Le query sono fatte attraverso lo SPARQL endpoint locale di **OpenLink Virtuoso**."
   ],
   "id": "8ca21010a84777ba"
  },
  {
   "metadata": {
    "ExecuteTime": {
     "end_time": "2024-05-05T11:16:22.056248Z",
     "start_time": "2024-05-05T11:16:15.399037Z"
    }
   },
   "cell_type": "code",
   "source": [
    "from SPARQLWrapper import SPARQLWrapper, CSV\n",
    "from io import StringIO\n",
    "import pandas as pd\n",
    "import numpy as np\n",
    "import plotly.express as px\n",
    "from urllib.parse import quote, unquote\n",
    "\n",
    "sparql = SPARQLWrapper(\"http://localhost:8890/sparql\")\n",
    "sparql.setReturnFormat(CSV)\n",
    "prefixes = \"\"\"\n",
    "prefix sdo: <http://www.so.developersurvey.org/ontology/>\n",
    "prefix sdr: <http://www.so.developersurvey.org/resource/>\n",
    "prefix dbo: <http://www.dbpedia.org/ontology/>\n",
    "prefix dbr: <http://www.dbpedia.org/resource/>\n",
    "\"\"\""
   ],
   "id": "be2b3dcb0892769a",
   "outputs": [],
   "execution_count": 2
  },
  {
   "metadata": {
    "ExecuteTime": {
     "end_time": "2024-05-05T11:16:27.303978Z",
     "start_time": "2024-05-05T11:16:27.291010Z"
    }
   },
   "cell_type": "code",
   "source": [
    "def truncate_uri(uri):\n",
    "    return uri.rsplit('/', 1)[-1]\n",
    "\n",
    "def deurify(uri):\n",
    "    return unquote(str(uri).replace(\"_\",\" \").replace(\"\",\"?\"))"
   ],
   "id": "3f84efc1f6202473",
   "outputs": [],
   "execution_count": 3
  },
  {
   "metadata": {},
   "cell_type": "markdown",
   "source": "## Distribuzione geografica del dataset",
   "id": "dbafc6c619ea257"
  },
  {
   "metadata": {},
   "cell_type": "markdown",
   "source": [
    "Iniziamo con un'analisi della provenienza geografica delle risposte. Mi aspetto di vedere una maggioranza di utenti Americani.\n",
    "Estraggo dal grafo il conteggio dei SurveyRespondant del 2023 raggruppati per codice ISO"
   ],
   "id": "1a94674f65f5a3fa"
  },
  {
   "metadata": {
    "ExecuteTime": {
     "end_time": "2024-05-05T11:18:58.318618Z",
     "start_time": "2024-05-05T11:18:53.871807Z"
    }
   },
   "cell_type": "code",
   "source": [
    "sparql.setQuery(prefixes+\"\"\"\n",
    "SELECT ?iso (COUNT(DISTINCT ?answer) AS ?total)\n",
    "WHERE {\n",
    "    ?answer a ?type;\n",
    "            sdo:isFromCountry ?country .\n",
    "    ?country sdo:ISO_A3 ?iso .\n",
    "    ?type rdfs:subClassOf* sdo:SurveyRespondant .\n",
    "}\n",
    "GROUP BY ?iso\n",
    "ORDER BY desc(?total)\n",
    "\"\"\")\n",
    "\n",
    "res=sparql.query().convert()\n",
    "df=pd.read_csv(StringIO(res.decode('utf-8')))\n",
    "\n",
    "df.head(20)\n"
   ],
   "id": "7de6050e27f8cee1",
   "outputs": [
    {
     "ename": "URLError",
     "evalue": "<urlopen error [WinError 10061] No connection could be made because the target machine actively refused it>",
     "output_type": "error",
     "traceback": [
      "\u001B[1;31m---------------------------------------------------------------------------\u001B[0m",
      "\u001B[1;31mConnectionRefusedError\u001B[0m                    Traceback (most recent call last)",
      "File \u001B[1;32mC:\\Program Files\\WindowsApps\\PythonSoftwareFoundation.Python.3.12_3.12.1008.0_x64__qbz5n2kfra8p0\\Lib\\urllib\\request.py:1344\u001B[0m, in \u001B[0;36mAbstractHTTPHandler.do_open\u001B[1;34m(self, http_class, req, **http_conn_args)\u001B[0m\n\u001B[0;32m   1343\u001B[0m \u001B[38;5;28;01mtry\u001B[39;00m:\n\u001B[1;32m-> 1344\u001B[0m     \u001B[43mh\u001B[49m\u001B[38;5;241;43m.\u001B[39;49m\u001B[43mrequest\u001B[49m\u001B[43m(\u001B[49m\u001B[43mreq\u001B[49m\u001B[38;5;241;43m.\u001B[39;49m\u001B[43mget_method\u001B[49m\u001B[43m(\u001B[49m\u001B[43m)\u001B[49m\u001B[43m,\u001B[49m\u001B[43m \u001B[49m\u001B[43mreq\u001B[49m\u001B[38;5;241;43m.\u001B[39;49m\u001B[43mselector\u001B[49m\u001B[43m,\u001B[49m\u001B[43m \u001B[49m\u001B[43mreq\u001B[49m\u001B[38;5;241;43m.\u001B[39;49m\u001B[43mdata\u001B[49m\u001B[43m,\u001B[49m\u001B[43m \u001B[49m\u001B[43mheaders\u001B[49m\u001B[43m,\u001B[49m\n\u001B[0;32m   1345\u001B[0m \u001B[43m              \u001B[49m\u001B[43mencode_chunked\u001B[49m\u001B[38;5;241;43m=\u001B[39;49m\u001B[43mreq\u001B[49m\u001B[38;5;241;43m.\u001B[39;49m\u001B[43mhas_header\u001B[49m\u001B[43m(\u001B[49m\u001B[38;5;124;43m'\u001B[39;49m\u001B[38;5;124;43mTransfer-encoding\u001B[39;49m\u001B[38;5;124;43m'\u001B[39;49m\u001B[43m)\u001B[49m\u001B[43m)\u001B[49m\n\u001B[0;32m   1346\u001B[0m \u001B[38;5;28;01mexcept\u001B[39;00m \u001B[38;5;167;01mOSError\u001B[39;00m \u001B[38;5;28;01mas\u001B[39;00m err: \u001B[38;5;66;03m# timeout error\u001B[39;00m\n",
      "File \u001B[1;32mC:\\Program Files\\WindowsApps\\PythonSoftwareFoundation.Python.3.12_3.12.1008.0_x64__qbz5n2kfra8p0\\Lib\\http\\client.py:1336\u001B[0m, in \u001B[0;36mHTTPConnection.request\u001B[1;34m(self, method, url, body, headers, encode_chunked)\u001B[0m\n\u001B[0;32m   1335\u001B[0m \u001B[38;5;250m\u001B[39m\u001B[38;5;124;03m\"\"\"Send a complete request to the server.\"\"\"\u001B[39;00m\n\u001B[1;32m-> 1336\u001B[0m \u001B[38;5;28;43mself\u001B[39;49m\u001B[38;5;241;43m.\u001B[39;49m\u001B[43m_send_request\u001B[49m\u001B[43m(\u001B[49m\u001B[43mmethod\u001B[49m\u001B[43m,\u001B[49m\u001B[43m \u001B[49m\u001B[43murl\u001B[49m\u001B[43m,\u001B[49m\u001B[43m \u001B[49m\u001B[43mbody\u001B[49m\u001B[43m,\u001B[49m\u001B[43m \u001B[49m\u001B[43mheaders\u001B[49m\u001B[43m,\u001B[49m\u001B[43m \u001B[49m\u001B[43mencode_chunked\u001B[49m\u001B[43m)\u001B[49m\n",
      "File \u001B[1;32mC:\\Program Files\\WindowsApps\\PythonSoftwareFoundation.Python.3.12_3.12.1008.0_x64__qbz5n2kfra8p0\\Lib\\http\\client.py:1382\u001B[0m, in \u001B[0;36mHTTPConnection._send_request\u001B[1;34m(self, method, url, body, headers, encode_chunked)\u001B[0m\n\u001B[0;32m   1381\u001B[0m     body \u001B[38;5;241m=\u001B[39m _encode(body, \u001B[38;5;124m'\u001B[39m\u001B[38;5;124mbody\u001B[39m\u001B[38;5;124m'\u001B[39m)\n\u001B[1;32m-> 1382\u001B[0m \u001B[38;5;28;43mself\u001B[39;49m\u001B[38;5;241;43m.\u001B[39;49m\u001B[43mendheaders\u001B[49m\u001B[43m(\u001B[49m\u001B[43mbody\u001B[49m\u001B[43m,\u001B[49m\u001B[43m \u001B[49m\u001B[43mencode_chunked\u001B[49m\u001B[38;5;241;43m=\u001B[39;49m\u001B[43mencode_chunked\u001B[49m\u001B[43m)\u001B[49m\n",
      "File \u001B[1;32mC:\\Program Files\\WindowsApps\\PythonSoftwareFoundation.Python.3.12_3.12.1008.0_x64__qbz5n2kfra8p0\\Lib\\http\\client.py:1331\u001B[0m, in \u001B[0;36mHTTPConnection.endheaders\u001B[1;34m(self, message_body, encode_chunked)\u001B[0m\n\u001B[0;32m   1330\u001B[0m     \u001B[38;5;28;01mraise\u001B[39;00m CannotSendHeader()\n\u001B[1;32m-> 1331\u001B[0m \u001B[38;5;28;43mself\u001B[39;49m\u001B[38;5;241;43m.\u001B[39;49m\u001B[43m_send_output\u001B[49m\u001B[43m(\u001B[49m\u001B[43mmessage_body\u001B[49m\u001B[43m,\u001B[49m\u001B[43m \u001B[49m\u001B[43mencode_chunked\u001B[49m\u001B[38;5;241;43m=\u001B[39;49m\u001B[43mencode_chunked\u001B[49m\u001B[43m)\u001B[49m\n",
      "File \u001B[1;32mC:\\Program Files\\WindowsApps\\PythonSoftwareFoundation.Python.3.12_3.12.1008.0_x64__qbz5n2kfra8p0\\Lib\\http\\client.py:1091\u001B[0m, in \u001B[0;36mHTTPConnection._send_output\u001B[1;34m(self, message_body, encode_chunked)\u001B[0m\n\u001B[0;32m   1090\u001B[0m \u001B[38;5;28;01mdel\u001B[39;00m \u001B[38;5;28mself\u001B[39m\u001B[38;5;241m.\u001B[39m_buffer[:]\n\u001B[1;32m-> 1091\u001B[0m \u001B[38;5;28;43mself\u001B[39;49m\u001B[38;5;241;43m.\u001B[39;49m\u001B[43msend\u001B[49m\u001B[43m(\u001B[49m\u001B[43mmsg\u001B[49m\u001B[43m)\u001B[49m\n\u001B[0;32m   1093\u001B[0m \u001B[38;5;28;01mif\u001B[39;00m message_body \u001B[38;5;129;01mis\u001B[39;00m \u001B[38;5;129;01mnot\u001B[39;00m \u001B[38;5;28;01mNone\u001B[39;00m:\n\u001B[0;32m   1094\u001B[0m \n\u001B[0;32m   1095\u001B[0m     \u001B[38;5;66;03m# create a consistent interface to message_body\u001B[39;00m\n",
      "File \u001B[1;32mC:\\Program Files\\WindowsApps\\PythonSoftwareFoundation.Python.3.12_3.12.1008.0_x64__qbz5n2kfra8p0\\Lib\\http\\client.py:1035\u001B[0m, in \u001B[0;36mHTTPConnection.send\u001B[1;34m(self, data)\u001B[0m\n\u001B[0;32m   1034\u001B[0m \u001B[38;5;28;01mif\u001B[39;00m \u001B[38;5;28mself\u001B[39m\u001B[38;5;241m.\u001B[39mauto_open:\n\u001B[1;32m-> 1035\u001B[0m     \u001B[38;5;28;43mself\u001B[39;49m\u001B[38;5;241;43m.\u001B[39;49m\u001B[43mconnect\u001B[49m\u001B[43m(\u001B[49m\u001B[43m)\u001B[49m\n\u001B[0;32m   1036\u001B[0m \u001B[38;5;28;01melse\u001B[39;00m:\n",
      "File \u001B[1;32mC:\\Program Files\\WindowsApps\\PythonSoftwareFoundation.Python.3.12_3.12.1008.0_x64__qbz5n2kfra8p0\\Lib\\http\\client.py:1001\u001B[0m, in \u001B[0;36mHTTPConnection.connect\u001B[1;34m(self)\u001B[0m\n\u001B[0;32m   1000\u001B[0m sys\u001B[38;5;241m.\u001B[39maudit(\u001B[38;5;124m\"\u001B[39m\u001B[38;5;124mhttp.client.connect\u001B[39m\u001B[38;5;124m\"\u001B[39m, \u001B[38;5;28mself\u001B[39m, \u001B[38;5;28mself\u001B[39m\u001B[38;5;241m.\u001B[39mhost, \u001B[38;5;28mself\u001B[39m\u001B[38;5;241m.\u001B[39mport)\n\u001B[1;32m-> 1001\u001B[0m \u001B[38;5;28mself\u001B[39m\u001B[38;5;241m.\u001B[39msock \u001B[38;5;241m=\u001B[39m \u001B[38;5;28;43mself\u001B[39;49m\u001B[38;5;241;43m.\u001B[39;49m\u001B[43m_create_connection\u001B[49m\u001B[43m(\u001B[49m\n\u001B[0;32m   1002\u001B[0m \u001B[43m    \u001B[49m\u001B[43m(\u001B[49m\u001B[38;5;28;43mself\u001B[39;49m\u001B[38;5;241;43m.\u001B[39;49m\u001B[43mhost\u001B[49m\u001B[43m,\u001B[49m\u001B[38;5;28;43mself\u001B[39;49m\u001B[38;5;241;43m.\u001B[39;49m\u001B[43mport\u001B[49m\u001B[43m)\u001B[49m\u001B[43m,\u001B[49m\u001B[43m \u001B[49m\u001B[38;5;28;43mself\u001B[39;49m\u001B[38;5;241;43m.\u001B[39;49m\u001B[43mtimeout\u001B[49m\u001B[43m,\u001B[49m\u001B[43m \u001B[49m\u001B[38;5;28;43mself\u001B[39;49m\u001B[38;5;241;43m.\u001B[39;49m\u001B[43msource_address\u001B[49m\u001B[43m)\u001B[49m\n\u001B[0;32m   1003\u001B[0m \u001B[38;5;66;03m# Might fail in OSs that don't implement TCP_NODELAY\u001B[39;00m\n",
      "File \u001B[1;32mC:\\Program Files\\WindowsApps\\PythonSoftwareFoundation.Python.3.12_3.12.1008.0_x64__qbz5n2kfra8p0\\Lib\\socket.py:852\u001B[0m, in \u001B[0;36mcreate_connection\u001B[1;34m(address, timeout, source_address, all_errors)\u001B[0m\n\u001B[0;32m    851\u001B[0m \u001B[38;5;28;01mif\u001B[39;00m \u001B[38;5;129;01mnot\u001B[39;00m all_errors:\n\u001B[1;32m--> 852\u001B[0m     \u001B[38;5;28;01mraise\u001B[39;00m exceptions[\u001B[38;5;241m0\u001B[39m]\n\u001B[0;32m    853\u001B[0m \u001B[38;5;28;01mraise\u001B[39;00m ExceptionGroup(\u001B[38;5;124m\"\u001B[39m\u001B[38;5;124mcreate_connection failed\u001B[39m\u001B[38;5;124m\"\u001B[39m, exceptions)\n",
      "File \u001B[1;32mC:\\Program Files\\WindowsApps\\PythonSoftwareFoundation.Python.3.12_3.12.1008.0_x64__qbz5n2kfra8p0\\Lib\\socket.py:837\u001B[0m, in \u001B[0;36mcreate_connection\u001B[1;34m(address, timeout, source_address, all_errors)\u001B[0m\n\u001B[0;32m    836\u001B[0m     sock\u001B[38;5;241m.\u001B[39mbind(source_address)\n\u001B[1;32m--> 837\u001B[0m \u001B[43msock\u001B[49m\u001B[38;5;241;43m.\u001B[39;49m\u001B[43mconnect\u001B[49m\u001B[43m(\u001B[49m\u001B[43msa\u001B[49m\u001B[43m)\u001B[49m\n\u001B[0;32m    838\u001B[0m \u001B[38;5;66;03m# Break explicitly a reference cycle\u001B[39;00m\n",
      "\u001B[1;31mConnectionRefusedError\u001B[0m: [WinError 10061] No connection could be made because the target machine actively refused it",
      "\nDuring handling of the above exception, another exception occurred:\n",
      "\u001B[1;31mURLError\u001B[0m                                  Traceback (most recent call last)",
      "Cell \u001B[1;32mIn[4], line 13\u001B[0m\n\u001B[0;32m      1\u001B[0m sparql\u001B[38;5;241m.\u001B[39msetQuery(prefixes\u001B[38;5;241m+\u001B[39m\u001B[38;5;124m\"\"\"\u001B[39m\n\u001B[0;32m      2\u001B[0m \u001B[38;5;124mSELECT ?iso (COUNT(DISTINCT ?answer) AS ?total)\u001B[39m\n\u001B[0;32m      3\u001B[0m \u001B[38;5;124mWHERE \u001B[39m\u001B[38;5;124m{\u001B[39m\n\u001B[1;32m   (...)\u001B[0m\n\u001B[0;32m     10\u001B[0m \u001B[38;5;124mORDER BY desc(?total)\u001B[39m\n\u001B[0;32m     11\u001B[0m \u001B[38;5;124m\"\"\"\u001B[39m)\n\u001B[1;32m---> 13\u001B[0m res\u001B[38;5;241m=\u001B[39m\u001B[43msparql\u001B[49m\u001B[38;5;241;43m.\u001B[39;49m\u001B[43mquery\u001B[49m\u001B[43m(\u001B[49m\u001B[43m)\u001B[49m\u001B[38;5;241m.\u001B[39mconvert()\n\u001B[0;32m     14\u001B[0m df\u001B[38;5;241m=\u001B[39mpd\u001B[38;5;241m.\u001B[39mread_csv(StringIO(res\u001B[38;5;241m.\u001B[39mdecode(\u001B[38;5;124m'\u001B[39m\u001B[38;5;124mutf-8\u001B[39m\u001B[38;5;124m'\u001B[39m)))\n\u001B[0;32m     16\u001B[0m df\u001B[38;5;241m.\u001B[39mhead(\u001B[38;5;241m20\u001B[39m)\n",
      "File \u001B[1;32m~\\AppData\\Local\\Packages\\PythonSoftwareFoundation.Python.3.12_qbz5n2kfra8p0\\LocalCache\\local-packages\\Python312\\site-packages\\SPARQLWrapper\\Wrapper.py:960\u001B[0m, in \u001B[0;36mSPARQLWrapper.query\u001B[1;34m(self)\u001B[0m\n\u001B[0;32m    942\u001B[0m \u001B[38;5;28;01mdef\u001B[39;00m \u001B[38;5;21mquery\u001B[39m(\u001B[38;5;28mself\u001B[39m) \u001B[38;5;241m-\u001B[39m\u001B[38;5;241m>\u001B[39m \u001B[38;5;124m\"\u001B[39m\u001B[38;5;124mQueryResult\u001B[39m\u001B[38;5;124m\"\u001B[39m:\n\u001B[0;32m    943\u001B[0m \u001B[38;5;250m    \u001B[39m\u001B[38;5;124;03m\"\"\"\u001B[39;00m\n\u001B[0;32m    944\u001B[0m \u001B[38;5;124;03m    Execute the query.\u001B[39;00m\n\u001B[0;32m    945\u001B[0m \u001B[38;5;124;03m    Exceptions can be raised if either the URI is wrong or the HTTP sends back an error (this is also the\u001B[39;00m\n\u001B[1;32m   (...)\u001B[0m\n\u001B[0;32m    958\u001B[0m \u001B[38;5;124;03m    :rtype: :class:`QueryResult` instance\u001B[39;00m\n\u001B[0;32m    959\u001B[0m \u001B[38;5;124;03m    \"\"\"\u001B[39;00m\n\u001B[1;32m--> 960\u001B[0m     \u001B[38;5;28;01mreturn\u001B[39;00m QueryResult(\u001B[38;5;28;43mself\u001B[39;49m\u001B[38;5;241;43m.\u001B[39;49m\u001B[43m_query\u001B[49m\u001B[43m(\u001B[49m\u001B[43m)\u001B[49m)\n",
      "File \u001B[1;32m~\\AppData\\Local\\Packages\\PythonSoftwareFoundation.Python.3.12_qbz5n2kfra8p0\\LocalCache\\local-packages\\Python312\\site-packages\\SPARQLWrapper\\Wrapper.py:926\u001B[0m, in \u001B[0;36mSPARQLWrapper._query\u001B[1;34m(self)\u001B[0m\n\u001B[0;32m    924\u001B[0m         response \u001B[38;5;241m=\u001B[39m urlopener(request, timeout\u001B[38;5;241m=\u001B[39m\u001B[38;5;28mself\u001B[39m\u001B[38;5;241m.\u001B[39mtimeout)\n\u001B[0;32m    925\u001B[0m     \u001B[38;5;28;01melse\u001B[39;00m:\n\u001B[1;32m--> 926\u001B[0m         response \u001B[38;5;241m=\u001B[39m \u001B[43murlopener\u001B[49m\u001B[43m(\u001B[49m\u001B[43mrequest\u001B[49m\u001B[43m)\u001B[49m\n\u001B[0;32m    927\u001B[0m     \u001B[38;5;28;01mreturn\u001B[39;00m response, \u001B[38;5;28mself\u001B[39m\u001B[38;5;241m.\u001B[39mreturnFormat\n\u001B[0;32m    928\u001B[0m \u001B[38;5;28;01mexcept\u001B[39;00m urllib\u001B[38;5;241m.\u001B[39merror\u001B[38;5;241m.\u001B[39mHTTPError \u001B[38;5;28;01mas\u001B[39;00m e:\n",
      "File \u001B[1;32mC:\\Program Files\\WindowsApps\\PythonSoftwareFoundation.Python.3.12_3.12.1008.0_x64__qbz5n2kfra8p0\\Lib\\urllib\\request.py:215\u001B[0m, in \u001B[0;36murlopen\u001B[1;34m(url, data, timeout, cafile, capath, cadefault, context)\u001B[0m\n\u001B[0;32m    213\u001B[0m \u001B[38;5;28;01melse\u001B[39;00m:\n\u001B[0;32m    214\u001B[0m     opener \u001B[38;5;241m=\u001B[39m _opener\n\u001B[1;32m--> 215\u001B[0m \u001B[38;5;28;01mreturn\u001B[39;00m \u001B[43mopener\u001B[49m\u001B[38;5;241;43m.\u001B[39;49m\u001B[43mopen\u001B[49m\u001B[43m(\u001B[49m\u001B[43murl\u001B[49m\u001B[43m,\u001B[49m\u001B[43m \u001B[49m\u001B[43mdata\u001B[49m\u001B[43m,\u001B[49m\u001B[43m \u001B[49m\u001B[43mtimeout\u001B[49m\u001B[43m)\u001B[49m\n",
      "File \u001B[1;32mC:\\Program Files\\WindowsApps\\PythonSoftwareFoundation.Python.3.12_3.12.1008.0_x64__qbz5n2kfra8p0\\Lib\\urllib\\request.py:515\u001B[0m, in \u001B[0;36mOpenerDirector.open\u001B[1;34m(self, fullurl, data, timeout)\u001B[0m\n\u001B[0;32m    512\u001B[0m     req \u001B[38;5;241m=\u001B[39m meth(req)\n\u001B[0;32m    514\u001B[0m sys\u001B[38;5;241m.\u001B[39maudit(\u001B[38;5;124m'\u001B[39m\u001B[38;5;124murllib.Request\u001B[39m\u001B[38;5;124m'\u001B[39m, req\u001B[38;5;241m.\u001B[39mfull_url, req\u001B[38;5;241m.\u001B[39mdata, req\u001B[38;5;241m.\u001B[39mheaders, req\u001B[38;5;241m.\u001B[39mget_method())\n\u001B[1;32m--> 515\u001B[0m response \u001B[38;5;241m=\u001B[39m \u001B[38;5;28;43mself\u001B[39;49m\u001B[38;5;241;43m.\u001B[39;49m\u001B[43m_open\u001B[49m\u001B[43m(\u001B[49m\u001B[43mreq\u001B[49m\u001B[43m,\u001B[49m\u001B[43m \u001B[49m\u001B[43mdata\u001B[49m\u001B[43m)\u001B[49m\n\u001B[0;32m    517\u001B[0m \u001B[38;5;66;03m# post-process response\u001B[39;00m\n\u001B[0;32m    518\u001B[0m meth_name \u001B[38;5;241m=\u001B[39m protocol\u001B[38;5;241m+\u001B[39m\u001B[38;5;124m\"\u001B[39m\u001B[38;5;124m_response\u001B[39m\u001B[38;5;124m\"\u001B[39m\n",
      "File \u001B[1;32mC:\\Program Files\\WindowsApps\\PythonSoftwareFoundation.Python.3.12_3.12.1008.0_x64__qbz5n2kfra8p0\\Lib\\urllib\\request.py:532\u001B[0m, in \u001B[0;36mOpenerDirector._open\u001B[1;34m(self, req, data)\u001B[0m\n\u001B[0;32m    529\u001B[0m     \u001B[38;5;28;01mreturn\u001B[39;00m result\n\u001B[0;32m    531\u001B[0m protocol \u001B[38;5;241m=\u001B[39m req\u001B[38;5;241m.\u001B[39mtype\n\u001B[1;32m--> 532\u001B[0m result \u001B[38;5;241m=\u001B[39m \u001B[38;5;28;43mself\u001B[39;49m\u001B[38;5;241;43m.\u001B[39;49m\u001B[43m_call_chain\u001B[49m\u001B[43m(\u001B[49m\u001B[38;5;28;43mself\u001B[39;49m\u001B[38;5;241;43m.\u001B[39;49m\u001B[43mhandle_open\u001B[49m\u001B[43m,\u001B[49m\u001B[43m \u001B[49m\u001B[43mprotocol\u001B[49m\u001B[43m,\u001B[49m\u001B[43m \u001B[49m\u001B[43mprotocol\u001B[49m\u001B[43m \u001B[49m\u001B[38;5;241;43m+\u001B[39;49m\n\u001B[0;32m    533\u001B[0m \u001B[43m                          \u001B[49m\u001B[38;5;124;43m'\u001B[39;49m\u001B[38;5;124;43m_open\u001B[39;49m\u001B[38;5;124;43m'\u001B[39;49m\u001B[43m,\u001B[49m\u001B[43m \u001B[49m\u001B[43mreq\u001B[49m\u001B[43m)\u001B[49m\n\u001B[0;32m    534\u001B[0m \u001B[38;5;28;01mif\u001B[39;00m result:\n\u001B[0;32m    535\u001B[0m     \u001B[38;5;28;01mreturn\u001B[39;00m result\n",
      "File \u001B[1;32mC:\\Program Files\\WindowsApps\\PythonSoftwareFoundation.Python.3.12_3.12.1008.0_x64__qbz5n2kfra8p0\\Lib\\urllib\\request.py:492\u001B[0m, in \u001B[0;36mOpenerDirector._call_chain\u001B[1;34m(self, chain, kind, meth_name, *args)\u001B[0m\n\u001B[0;32m    490\u001B[0m \u001B[38;5;28;01mfor\u001B[39;00m handler \u001B[38;5;129;01min\u001B[39;00m handlers:\n\u001B[0;32m    491\u001B[0m     func \u001B[38;5;241m=\u001B[39m \u001B[38;5;28mgetattr\u001B[39m(handler, meth_name)\n\u001B[1;32m--> 492\u001B[0m     result \u001B[38;5;241m=\u001B[39m \u001B[43mfunc\u001B[49m\u001B[43m(\u001B[49m\u001B[38;5;241;43m*\u001B[39;49m\u001B[43margs\u001B[49m\u001B[43m)\u001B[49m\n\u001B[0;32m    493\u001B[0m     \u001B[38;5;28;01mif\u001B[39;00m result \u001B[38;5;129;01mis\u001B[39;00m \u001B[38;5;129;01mnot\u001B[39;00m \u001B[38;5;28;01mNone\u001B[39;00m:\n\u001B[0;32m    494\u001B[0m         \u001B[38;5;28;01mreturn\u001B[39;00m result\n",
      "File \u001B[1;32mC:\\Program Files\\WindowsApps\\PythonSoftwareFoundation.Python.3.12_3.12.1008.0_x64__qbz5n2kfra8p0\\Lib\\urllib\\request.py:1373\u001B[0m, in \u001B[0;36mHTTPHandler.http_open\u001B[1;34m(self, req)\u001B[0m\n\u001B[0;32m   1372\u001B[0m \u001B[38;5;28;01mdef\u001B[39;00m \u001B[38;5;21mhttp_open\u001B[39m(\u001B[38;5;28mself\u001B[39m, req):\n\u001B[1;32m-> 1373\u001B[0m     \u001B[38;5;28;01mreturn\u001B[39;00m \u001B[38;5;28;43mself\u001B[39;49m\u001B[38;5;241;43m.\u001B[39;49m\u001B[43mdo_open\u001B[49m\u001B[43m(\u001B[49m\u001B[43mhttp\u001B[49m\u001B[38;5;241;43m.\u001B[39;49m\u001B[43mclient\u001B[49m\u001B[38;5;241;43m.\u001B[39;49m\u001B[43mHTTPConnection\u001B[49m\u001B[43m,\u001B[49m\u001B[43m \u001B[49m\u001B[43mreq\u001B[49m\u001B[43m)\u001B[49m\n",
      "File \u001B[1;32mC:\\Program Files\\WindowsApps\\PythonSoftwareFoundation.Python.3.12_3.12.1008.0_x64__qbz5n2kfra8p0\\Lib\\urllib\\request.py:1347\u001B[0m, in \u001B[0;36mAbstractHTTPHandler.do_open\u001B[1;34m(self, http_class, req, **http_conn_args)\u001B[0m\n\u001B[0;32m   1344\u001B[0m         h\u001B[38;5;241m.\u001B[39mrequest(req\u001B[38;5;241m.\u001B[39mget_method(), req\u001B[38;5;241m.\u001B[39mselector, req\u001B[38;5;241m.\u001B[39mdata, headers,\n\u001B[0;32m   1345\u001B[0m                   encode_chunked\u001B[38;5;241m=\u001B[39mreq\u001B[38;5;241m.\u001B[39mhas_header(\u001B[38;5;124m'\u001B[39m\u001B[38;5;124mTransfer-encoding\u001B[39m\u001B[38;5;124m'\u001B[39m))\n\u001B[0;32m   1346\u001B[0m     \u001B[38;5;28;01mexcept\u001B[39;00m \u001B[38;5;167;01mOSError\u001B[39;00m \u001B[38;5;28;01mas\u001B[39;00m err: \u001B[38;5;66;03m# timeout error\u001B[39;00m\n\u001B[1;32m-> 1347\u001B[0m         \u001B[38;5;28;01mraise\u001B[39;00m URLError(err)\n\u001B[0;32m   1348\u001B[0m     r \u001B[38;5;241m=\u001B[39m h\u001B[38;5;241m.\u001B[39mgetresponse()\n\u001B[0;32m   1349\u001B[0m \u001B[38;5;28;01mexcept\u001B[39;00m:\n",
      "\u001B[1;31mURLError\u001B[0m: <urlopen error [WinError 10061] No connection could be made because the target machine actively refused it>"
     ]
    }
   ],
   "execution_count": 4
  },
  {
   "metadata": {},
   "cell_type": "markdown",
   "source": "Poi uso plotly express e il dataset gapminder per generare una mappa in scala logaritmica della densità di risposte in confronto alla popolazione.",
   "id": "9499e020420941f1"
  },
  {
   "metadata": {},
   "cell_type": "code",
   "outputs": [],
   "execution_count": null,
   "source": [
    "gm = px.data.gapminder()\n",
    "gm = gm.loc[gm.year == 2007].drop(['year', 'lifeExp','gdpPercap', 'iso_num'], axis=1)\n",
    "\n",
    "merged = gm.merge(df, left_on='iso_alpha', right_on='iso')\n",
    "merged['w_tot'] = (merged['total'] / merged['pop']) * 1000000\n",
    "merged['log_scale'] = np.log10(merged['w_tot'])"
   ],
   "id": "29516414352b0882"
  },
  {
   "metadata": {},
   "cell_type": "code",
   "outputs": [],
   "execution_count": null,
   "source": [
    "import plotly.express as px\n",
    "import plotly.graph_objects as go\n",
    "\n",
    "logmin = merged.log_scale.min()\n",
    "logmax = merged.log_scale.max()\n",
    "\n",
    "wmin = round(merged.w_tot.min())\n",
    "wmax = round(merged.w_tot.max())\n",
    "\n",
    "\n",
    "fig = go.Figure(go.Choropleth(\n",
    "    locations=merged['iso_alpha'],\n",
    "    z=merged['log_scale'],\n",
    "    text=merged['country'],\n",
    "    colorscale='plasma',\n",
    "    locationmode='ISO-3',\n",
    "    hoverinfo = 'text',\n",
    "    colorbar=dict(\n",
    "        len=0.75,\n",
    "        title='Answers per million people',\n",
    "        x=0.9,\n",
    "        tickvals=[logmin, logmax],\n",
    "        ticktext=[wmin, wmax]\n",
    "    )\n",
    "))\n",
    "\n",
    "\n",
    "\n",
    "fig.update_geos(projection_type='natural earth')\n",
    "# Show the plot\n",
    "fig.show()"
   ],
   "id": "59ee28c5e16fce10"
  },
  {
   "metadata": {},
   "cell_type": "markdown",
   "source": [
    "Possiamo osservare che il campione è sbilanciato verso la userbase di SO, cioè i developer che capiscono l'inglese. Paesi come gli stati uniti e l'australia hanno una concentrazione di risposte esponenzialmente maggiore rispetto ad altri stati attivi nel campo come la Cina e il Giappone.\n",
    "\n",
    "Con una query federata a dbpedia sarebbe possibile ripetere l'osservazione filtrando solo i paesi che hanno come una delle lingue principali l'inglese."
   ],
   "id": "4e363b436fe0a81a"
  },
  {
   "metadata": {},
   "cell_type": "markdown",
   "source": [
    "## Utilizzo linguaggi di programmazione tra sviluppatori di generazioni diverse.\n",
    "Continuiamo visualizzando l'andamento delle lingue di programmazione, ma suddivisi in due categorie in base all'età superiore o inferiore ai 30 anni.\n",
    "I risultati con un totale sotto 3000 sono stati omessi per rendere il grafico leggibile."
   ],
   "id": "db532fbd245bf51"
  },
  {
   "metadata": {},
   "cell_type": "code",
   "outputs": [],
   "execution_count": null,
   "source": [
    "import plotly.express as px\n",
    "sparql.setQuery(prefixes+\"\"\"\n",
    "SELECT ?year ?lang ?young (COUNT(DISTINCT ?answer) AS ?total) \n",
    "WHERE {\n",
    "    ?answer a ?type;\n",
    "            sdo:isFromSurvey ?survey;\n",
    "            sdo:usesLanguage ?langUri;\n",
    "            sdo:minAge ?age .\n",
    "    ?survey sdo:year ?year .\n",
    "    ?type rdfs:subClassOf* sdo:SurveyRespondant .\n",
    "    ?langUri rdfs:label ?lang.\n",
    "            \n",
    "    BIND(?age < 30 AS ?young)\n",
    "}\n",
    "ORDER BY ?year ?total\n",
    "\"\"\")\n",
    "res=sparql.query().convert()\n",
    "df=pd.read_csv(StringIO(res.decode('utf-8')))\n",
    "df.lang = df.lang.apply(unquote)\n",
    "df.young = df.young.apply(lambda x: 'young' if x==1 else 'old')\n",
    "df = df[df.total >= 3000]"
   ],
   "id": "c7096630a2dd7439"
  },
  {
   "metadata": {},
   "cell_type": "code",
   "outputs": [],
   "execution_count": null,
   "source": [
    "fig = px.line(df, x='year', y='total', color='lang', animation_frame='young',\n",
    "                labels={'total': 'Total', 'year': 'Year'},\n",
    "                title='Total Responses by Year for Different Languages',\n",
    "                log_y=True,\n",
    "              hover_name='lang', line_shape=\"spline\")\n",
    "\n",
    "fig.update_xaxes(dtick=1)\n",
    "\n",
    "\n",
    "fig.show()"
   ],
   "id": "b48c908b00af6cfa"
  },
  {
   "metadata": {},
   "cell_type": "markdown",
   "source": [
    "Mentre fonti come gli indici Tiobe e PYPL, ci dicono che Python è la lingua più cercata su google, sembrerebbe che al livello pratico la maggior parte degli sviluppatori si ritrovi a usare JavaScript nel proprio lavoro, con python al secondo posto tra le lingue di programmazione vere e proprie.\n",
    "\n",
    "In generale non sembra esserci una grande differenza nelle preferenze delle due demografie, tuttavia nel timeframe considerato possiamo osservare un aumento sostanziale delle risposte da parte di utenti sotto i 30 anni, mentre l'altra categoria è più stabile."
   ],
   "id": "40b214ab25543d0d"
  },
  {
   "metadata": {},
   "cell_type": "markdown",
   "source": [
    "## Utilizzo sistemi operativi\n",
    "Adesso mettiamo al confronto le famiglie di sistemi operativi nel corso degli anni con una divisione per colore in base il tipo di utente."
   ],
   "id": "3f1da88351cda311"
  },
  {
   "metadata": {},
   "cell_type": "code",
   "outputs": [],
   "execution_count": null,
   "source": [
    "sparql.setQuery(prefixes + \"\"\"\n",
    "SELECT ?year ?os ?type  (COUNT(DISTINCT ?answer) AS ?count)\n",
    "WHERE {\n",
    "    ?answer a ?type;\n",
    "            sdo:usesOS ?os;\n",
    "            sdo:isFromSurvey ?survey\n",
    "    ?survey a sdo:StackOverflowSurvey;\n",
    "            sdo:year ?year.\n",
    "    ?type rdfs:subClassOf* sdo:SurveyRespondant.\n",
    "}\n",
    "ORDER BY ?year ?os ?type\n",
    "\"\"\")\n",
    "\n",
    "res_csv=sparql.query().convert()\n",
    "res=pd.read_csv(StringIO(res_csv.decode('utf-8')))\n",
    "cols = ['os','type']\n",
    "res[cols] = res[cols].apply(lambda x: x.apply(deurify))\n",
    "res['type'] = res['type'].replace('SurveyRespondant', 'Other')"
   ],
   "id": "a4a687a45e79f8d3"
  },
  {
   "metadata": {},
   "cell_type": "code",
   "outputs": [],
   "execution_count": null,
   "source": [
    "fig = px.bar(res, x=\"count\", y=\"os\", color=\"type\", title=\"Utilizzo sistemi operativi\", animation_frame='year',\n",
    "             labels={'count': 'Count', 'os': 'Sistema'})\n",
    "fig.update_layout(\n",
    "    font = dict(\n",
    "        family = \"Arial\",\n",
    "        size=16\n",
    "    )\n",
    ")\n",
    "fig.show()\n",
    "\n"
   ],
   "id": "bc11043eb55b21fd"
  },
  {
   "metadata": {},
   "cell_type": "markdown",
   "source": [
    "Possiamo osservare come sebbene sia facile confrontare questi dati all'interno dello stesso anno, il confronto tra anni diversi risulta alquanto difficile, dato che il contesto di come sono stati raccolti cambia drasticamente.\n",
    "In particolare il forte aumento delle risposte totali nel 2022, non dovuto solo a un aumento di utenza, ma al fatto che è diventato possibile scegliere più opzioni."
   ],
   "id": "1be9815979ea0c67"
  }
 ],
 "metadata": {
  "kernelspec": {
   "display_name": "Python 3",
   "language": "python",
   "name": "python3"
  },
  "language_info": {
   "codemirror_mode": {
    "name": "ipython",
    "version": 2
   },
   "file_extension": ".py",
   "mimetype": "text/x-python",
   "name": "python",
   "nbconvert_exporter": "python",
   "pygments_lexer": "ipython2",
   "version": "2.7.6"
  }
 },
 "nbformat": 4,
 "nbformat_minor": 5
}
